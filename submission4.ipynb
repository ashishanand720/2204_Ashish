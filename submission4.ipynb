{
 "cells": [
  {
   "cell_type": "code",
   "execution_count": 1,
   "id": "cd70844e",
   "metadata": {
    "_cell_guid": "b1076dfc-b9ad-4769-8c92-a6c4dae69d19",
    "_uuid": "8f2839f25d086af736a60e9eeb907d3b93b6e0e5",
    "execution": {
     "iopub.execute_input": "2024-06-18T14:20:12.736421Z",
     "iopub.status.busy": "2024-06-18T14:20:12.735985Z",
     "iopub.status.idle": "2024-06-18T14:20:15.749678Z",
     "shell.execute_reply": "2024-06-18T14:20:15.747789Z"
    },
    "papermill": {
     "duration": 3.026268,
     "end_time": "2024-06-18T14:20:15.752465",
     "exception": false,
     "start_time": "2024-06-18T14:20:12.726197",
     "status": "completed"
    },
    "tags": []
   },
   "outputs": [
    {
     "name": "stdout",
     "output_type": "stream",
     "text": [
      "/kaggle/input/week4-practice-hackathon-2024/sample_submission.csv\n",
      "/kaggle/input/week4-practice-hackathon-2024/Train.csv\n",
      "/kaggle/input/week4-practice-hackathon-2024/Test.csv\n"
     ]
    }
   ],
   "source": [
    "# This Python 3 environment comes with many helpful analytics libraries installed\n",
    "# It is defined by the kaggle/python Docker image: https://github.com/kaggle/docker-python\n",
    "# For example, here's several helpful packages to load\n",
    "\n",
    "import numpy as np # linear algebra\n",
    "import pandas as pd # data processing, CSV file I/O (e.g. pd.read_csv)\n",
    "from sklearn import preprocessing\n",
    "from sklearn.model_selection import train_test_split\n",
    "from sklearn.linear_model import LogisticRegression\n",
    "from tqdm.auto import tqdm\n",
    "from sklearn.metrics import f1_score\n",
    "\n",
    "# Input data files are available in the read-only \"../input/\" directory\n",
    "# For example, running this (by clicking run or pressing Shift+Enter) will list all files under the input directory\n",
    "\n",
    "import os\n",
    "for dirname, _, filenames in os.walk('/kaggle/input'):\n",
    "    for filename in filenames:\n",
    "        print(os.path.join(dirname, filename))\n",
    "\n",
    "# You can write up to 20GB to the current directory (/kaggle/working/) that gets preserved as output when you create a version using \"Save & Run All\"\n",
    "# You can also write temporary files to /kaggle/temp/, but they won't be saved outside of the current session"
   ]
  },
  {
   "cell_type": "code",
   "execution_count": null,
   "id": "a4bd45af",
   "metadata": {
    "papermill": {
     "duration": 0.007326,
     "end_time": "2024-06-18T14:20:15.768398",
     "exception": false,
     "start_time": "2024-06-18T14:20:15.761072",
     "status": "completed"
    },
    "tags": []
   },
   "outputs": [],
   "source": []
  },
  {
   "cell_type": "code",
   "execution_count": 2,
   "id": "cbc3a3d8",
   "metadata": {
    "execution": {
     "iopub.execute_input": "2024-06-18T14:20:15.785474Z",
     "iopub.status.busy": "2024-06-18T14:20:15.784950Z",
     "iopub.status.idle": "2024-06-18T14:20:16.034229Z",
     "shell.execute_reply": "2024-06-18T14:20:16.032974Z"
    },
    "papermill": {
     "duration": 0.261515,
     "end_time": "2024-06-18T14:20:16.037376",
     "exception": false,
     "start_time": "2024-06-18T14:20:15.775861",
     "status": "completed"
    },
    "tags": []
   },
   "outputs": [],
   "source": [
    "train_df = pd.read_csv(\"/kaggle/input/week4-practice-hackathon-2024/Train.csv\")"
   ]
  },
  {
   "cell_type": "code",
   "execution_count": 3,
   "id": "7f2a82a2",
   "metadata": {
    "execution": {
     "iopub.execute_input": "2024-06-18T14:20:16.054137Z",
     "iopub.status.busy": "2024-06-18T14:20:16.053697Z",
     "iopub.status.idle": "2024-06-18T14:20:16.060429Z",
     "shell.execute_reply": "2024-06-18T14:20:16.058952Z"
    },
    "papermill": {
     "duration": 0.017736,
     "end_time": "2024-06-18T14:20:16.062788",
     "exception": false,
     "start_time": "2024-06-18T14:20:16.045052",
     "status": "completed"
    },
    "tags": []
   },
   "outputs": [
    {
     "name": "stdout",
     "output_type": "stream",
     "text": [
      "(40776, 32)\n"
     ]
    }
   ],
   "source": [
    "print(train_df.shape)"
   ]
  },
  {
   "cell_type": "code",
   "execution_count": 4,
   "id": "5608a400",
   "metadata": {
    "execution": {
     "iopub.execute_input": "2024-06-18T14:20:16.079788Z",
     "iopub.status.busy": "2024-06-18T14:20:16.079358Z",
     "iopub.status.idle": "2024-06-18T14:20:16.128846Z",
     "shell.execute_reply": "2024-06-18T14:20:16.127352Z"
    },
    "papermill": {
     "duration": 0.061232,
     "end_time": "2024-06-18T14:20:16.131615",
     "exception": false,
     "start_time": "2024-06-18T14:20:16.070383",
     "status": "completed"
    },
    "tags": []
   },
   "outputs": [
    {
     "data": {
      "text/html": [
       "<div>\n",
       "<style scoped>\n",
       "    .dataframe tbody tr th:only-of-type {\n",
       "        vertical-align: middle;\n",
       "    }\n",
       "\n",
       "    .dataframe tbody tr th {\n",
       "        vertical-align: top;\n",
       "    }\n",
       "\n",
       "    .dataframe thead th {\n",
       "        text-align: right;\n",
       "    }\n",
       "</style>\n",
       "<table border=\"1\" class=\"dataframe\">\n",
       "  <thead>\n",
       "    <tr style=\"text-align: right;\">\n",
       "      <th></th>\n",
       "      <th>V1</th>\n",
       "      <th>V2</th>\n",
       "      <th>V3</th>\n",
       "      <th>V4</th>\n",
       "      <th>V5</th>\n",
       "      <th>V6</th>\n",
       "      <th>V7</th>\n",
       "      <th>V8</th>\n",
       "      <th>V9</th>\n",
       "      <th>V10</th>\n",
       "      <th>...</th>\n",
       "      <th>V45</th>\n",
       "      <th>V47</th>\n",
       "      <th>V50</th>\n",
       "      <th>V51</th>\n",
       "      <th>V52</th>\n",
       "      <th>V59</th>\n",
       "      <th>V63</th>\n",
       "      <th>V72</th>\n",
       "      <th>V75</th>\n",
       "      <th>class</th>\n",
       "    </tr>\n",
       "  </thead>\n",
       "  <tbody>\n",
       "    <tr>\n",
       "      <th>0</th>\n",
       "      <td>0.0</td>\n",
       "      <td>1.0</td>\n",
       "      <td>243.0</td>\n",
       "      <td>29</td>\n",
       "      <td>4528.0</td>\n",
       "      <td>138.0</td>\n",
       "      <td>3.0</td>\n",
       "      <td>29</td>\n",
       "      <td>201.0</td>\n",
       "      <td>0.0</td>\n",
       "      <td>...</td>\n",
       "      <td>2</td>\n",
       "      <td>3</td>\n",
       "      <td>71.0</td>\n",
       "      <td>0</td>\n",
       "      <td>0</td>\n",
       "      <td>46.0</td>\n",
       "      <td>1</td>\n",
       "      <td>2</td>\n",
       "      <td>0</td>\n",
       "      <td>1</td>\n",
       "    </tr>\n",
       "    <tr>\n",
       "      <th>1</th>\n",
       "      <td>0.0</td>\n",
       "      <td>20.0</td>\n",
       "      <td>8.0</td>\n",
       "      <td>14</td>\n",
       "      <td>4183.0</td>\n",
       "      <td>183.0</td>\n",
       "      <td>4.0</td>\n",
       "      <td>26</td>\n",
       "      <td>156.0</td>\n",
       "      <td>0.0</td>\n",
       "      <td>...</td>\n",
       "      <td>5</td>\n",
       "      <td>7</td>\n",
       "      <td>20.0</td>\n",
       "      <td>0</td>\n",
       "      <td>2</td>\n",
       "      <td>13.0</td>\n",
       "      <td>9</td>\n",
       "      <td>6</td>\n",
       "      <td>0</td>\n",
       "      <td>1</td>\n",
       "    </tr>\n",
       "    <tr>\n",
       "      <th>2</th>\n",
       "      <td>14.0</td>\n",
       "      <td>2.0</td>\n",
       "      <td>2.0</td>\n",
       "      <td>9</td>\n",
       "      <td>1113.0</td>\n",
       "      <td>15.0</td>\n",
       "      <td>37.0</td>\n",
       "      <td>31</td>\n",
       "      <td>78.0</td>\n",
       "      <td>1.0</td>\n",
       "      <td>...</td>\n",
       "      <td>7</td>\n",
       "      <td>5</td>\n",
       "      <td>11.0</td>\n",
       "      <td>0</td>\n",
       "      <td>0</td>\n",
       "      <td>7.0</td>\n",
       "      <td>9</td>\n",
       "      <td>2</td>\n",
       "      <td>1</td>\n",
       "      <td>0</td>\n",
       "    </tr>\n",
       "    <tr>\n",
       "      <th>3</th>\n",
       "      <td>0.0</td>\n",
       "      <td>175.0</td>\n",
       "      <td>17.0</td>\n",
       "      <td>16</td>\n",
       "      <td>4250.0</td>\n",
       "      <td>68.0</td>\n",
       "      <td>8.0</td>\n",
       "      <td>30</td>\n",
       "      <td>152.0</td>\n",
       "      <td>0.0</td>\n",
       "      <td>...</td>\n",
       "      <td>1</td>\n",
       "      <td>3</td>\n",
       "      <td>0.0</td>\n",
       "      <td>1</td>\n",
       "      <td>1</td>\n",
       "      <td>31.0</td>\n",
       "      <td>6</td>\n",
       "      <td>4</td>\n",
       "      <td>5</td>\n",
       "      <td>1</td>\n",
       "    </tr>\n",
       "    <tr>\n",
       "      <th>4</th>\n",
       "      <td>2.0</td>\n",
       "      <td>-1.0</td>\n",
       "      <td>1.0</td>\n",
       "      <td>3</td>\n",
       "      <td>0.0</td>\n",
       "      <td>0.0</td>\n",
       "      <td>2.0</td>\n",
       "      <td>5</td>\n",
       "      <td>6.0</td>\n",
       "      <td>1.0</td>\n",
       "      <td>...</td>\n",
       "      <td>1</td>\n",
       "      <td>5</td>\n",
       "      <td>0.0</td>\n",
       "      <td>0</td>\n",
       "      <td>0</td>\n",
       "      <td>2.0</td>\n",
       "      <td>8</td>\n",
       "      <td>0</td>\n",
       "      <td>1</td>\n",
       "      <td>1</td>\n",
       "    </tr>\n",
       "  </tbody>\n",
       "</table>\n",
       "<p>5 rows × 32 columns</p>\n",
       "</div>"
      ],
      "text/plain": [
       "     V1     V2     V3  V4      V5     V6    V7  V8     V9  V10  ...  V45  V47  \\\n",
       "0   0.0    1.0  243.0  29  4528.0  138.0   3.0  29  201.0  0.0  ...    2    3   \n",
       "1   0.0   20.0    8.0  14  4183.0  183.0   4.0  26  156.0  0.0  ...    5    7   \n",
       "2  14.0    2.0    2.0   9  1113.0   15.0  37.0  31   78.0  1.0  ...    7    5   \n",
       "3   0.0  175.0   17.0  16  4250.0   68.0   8.0  30  152.0  0.0  ...    1    3   \n",
       "4   2.0   -1.0    1.0   3     0.0    0.0   2.0   5    6.0  1.0  ...    1    5   \n",
       "\n",
       "    V50  V51  V52   V59  V63  V72  V75  class  \n",
       "0  71.0    0    0  46.0    1    2    0      1  \n",
       "1  20.0    0    2  13.0    9    6    0      1  \n",
       "2  11.0    0    0   7.0    9    2    1      0  \n",
       "3   0.0    1    1  31.0    6    4    5      1  \n",
       "4   0.0    0    0   2.0    8    0    1      1  \n",
       "\n",
       "[5 rows x 32 columns]"
      ]
     },
     "execution_count": 4,
     "metadata": {},
     "output_type": "execute_result"
    }
   ],
   "source": [
    "train_df.head()"
   ]
  },
  {
   "cell_type": "code",
   "execution_count": 5,
   "id": "0b5039ae",
   "metadata": {
    "execution": {
     "iopub.execute_input": "2024-06-18T14:20:16.149426Z",
     "iopub.status.busy": "2024-06-18T14:20:16.149023Z",
     "iopub.status.idle": "2024-06-18T14:20:16.156848Z",
     "shell.execute_reply": "2024-06-18T14:20:16.155517Z"
    },
    "papermill": {
     "duration": 0.019424,
     "end_time": "2024-06-18T14:20:16.159207",
     "exception": false,
     "start_time": "2024-06-18T14:20:16.139783",
     "status": "completed"
    },
    "tags": []
   },
   "outputs": [
    {
     "data": {
      "text/plain": [
       "Index(['V1', 'V2', 'V3', 'V4', 'V5', 'V6', 'V7', 'V8', 'V9', 'V10', 'V11',\n",
       "       'V13', 'V19', 'V22', 'V30', 'V33', 'V35', 'V36', 'V40', 'V41', 'V42',\n",
       "       'V43', 'V45', 'V47', 'V50', 'V51', 'V52', 'V59', 'V63', 'V72', 'V75',\n",
       "       'class'],\n",
       "      dtype='object')"
      ]
     },
     "execution_count": 5,
     "metadata": {},
     "output_type": "execute_result"
    }
   ],
   "source": [
    "train_df.columns"
   ]
  },
  {
   "cell_type": "code",
   "execution_count": 6,
   "id": "59ab7410",
   "metadata": {
    "execution": {
     "iopub.execute_input": "2024-06-18T14:20:16.177978Z",
     "iopub.status.busy": "2024-06-18T14:20:16.177530Z",
     "iopub.status.idle": "2024-06-18T14:20:16.188544Z",
     "shell.execute_reply": "2024-06-18T14:20:16.187153Z"
    },
    "papermill": {
     "duration": 0.024144,
     "end_time": "2024-06-18T14:20:16.191519",
     "exception": false,
     "start_time": "2024-06-18T14:20:16.167375",
     "status": "completed"
    },
    "tags": []
   },
   "outputs": [],
   "source": [
    "X = train_df.drop(['class'], axis=1)\n",
    "y = train_df['class']"
   ]
  },
  {
   "cell_type": "code",
   "execution_count": 7,
   "id": "ad4916cb",
   "metadata": {
    "execution": {
     "iopub.execute_input": "2024-06-18T14:20:16.209826Z",
     "iopub.status.busy": "2024-06-18T14:20:16.209379Z",
     "iopub.status.idle": "2024-06-18T14:20:16.241906Z",
     "shell.execute_reply": "2024-06-18T14:20:16.240592Z"
    },
    "papermill": {
     "duration": 0.044965,
     "end_time": "2024-06-18T14:20:16.244849",
     "exception": false,
     "start_time": "2024-06-18T14:20:16.199884",
     "status": "completed"
    },
    "tags": []
   },
   "outputs": [],
   "source": [
    "X_train, X_val, y_train, y_val = train_test_split(X, y, test_size = 0.3)"
   ]
  },
  {
   "cell_type": "code",
   "execution_count": 8,
   "id": "a25ba481",
   "metadata": {
    "execution": {
     "iopub.execute_input": "2024-06-18T14:20:16.263620Z",
     "iopub.status.busy": "2024-06-18T14:20:16.263213Z",
     "iopub.status.idle": "2024-06-18T14:20:16.279966Z",
     "shell.execute_reply": "2024-06-18T14:20:16.278410Z"
    },
    "papermill": {
     "duration": 0.030523,
     "end_time": "2024-06-18T14:20:16.284038",
     "exception": false,
     "start_time": "2024-06-18T14:20:16.253515",
     "status": "completed"
    },
    "tags": []
   },
   "outputs": [
    {
     "name": "stdout",
     "output_type": "stream",
     "text": [
      "class\n",
      "1    14366\n",
      "0    14177\n",
      "Name: count, dtype: int64\n"
     ]
    }
   ],
   "source": [
    "print(y_train.value_counts())"
   ]
  },
  {
   "cell_type": "code",
   "execution_count": 9,
   "id": "fb7333a9",
   "metadata": {
    "execution": {
     "iopub.execute_input": "2024-06-18T14:20:16.302617Z",
     "iopub.status.busy": "2024-06-18T14:20:16.302227Z",
     "iopub.status.idle": "2024-06-18T14:20:25.965058Z",
     "shell.execute_reply": "2024-06-18T14:20:25.963834Z"
    },
    "papermill": {
     "duration": 9.674979,
     "end_time": "2024-06-18T14:20:25.967775",
     "exception": false,
     "start_time": "2024-06-18T14:20:16.292796",
     "status": "completed"
    },
    "tags": []
   },
   "outputs": [
    {
     "data": {
      "text/html": [
       "<style>#sk-container-id-1 {color: black;background-color: white;}#sk-container-id-1 pre{padding: 0;}#sk-container-id-1 div.sk-toggleable {background-color: white;}#sk-container-id-1 label.sk-toggleable__label {cursor: pointer;display: block;width: 100%;margin-bottom: 0;padding: 0.3em;box-sizing: border-box;text-align: center;}#sk-container-id-1 label.sk-toggleable__label-arrow:before {content: \"▸\";float: left;margin-right: 0.25em;color: #696969;}#sk-container-id-1 label.sk-toggleable__label-arrow:hover:before {color: black;}#sk-container-id-1 div.sk-estimator:hover label.sk-toggleable__label-arrow:before {color: black;}#sk-container-id-1 div.sk-toggleable__content {max-height: 0;max-width: 0;overflow: hidden;text-align: left;background-color: #f0f8ff;}#sk-container-id-1 div.sk-toggleable__content pre {margin: 0.2em;color: black;border-radius: 0.25em;background-color: #f0f8ff;}#sk-container-id-1 input.sk-toggleable__control:checked~div.sk-toggleable__content {max-height: 200px;max-width: 100%;overflow: auto;}#sk-container-id-1 input.sk-toggleable__control:checked~label.sk-toggleable__label-arrow:before {content: \"▾\";}#sk-container-id-1 div.sk-estimator input.sk-toggleable__control:checked~label.sk-toggleable__label {background-color: #d4ebff;}#sk-container-id-1 div.sk-label input.sk-toggleable__control:checked~label.sk-toggleable__label {background-color: #d4ebff;}#sk-container-id-1 input.sk-hidden--visually {border: 0;clip: rect(1px 1px 1px 1px);clip: rect(1px, 1px, 1px, 1px);height: 1px;margin: -1px;overflow: hidden;padding: 0;position: absolute;width: 1px;}#sk-container-id-1 div.sk-estimator {font-family: monospace;background-color: #f0f8ff;border: 1px dotted black;border-radius: 0.25em;box-sizing: border-box;margin-bottom: 0.5em;}#sk-container-id-1 div.sk-estimator:hover {background-color: #d4ebff;}#sk-container-id-1 div.sk-parallel-item::after {content: \"\";width: 100%;border-bottom: 1px solid gray;flex-grow: 1;}#sk-container-id-1 div.sk-label:hover label.sk-toggleable__label {background-color: #d4ebff;}#sk-container-id-1 div.sk-serial::before {content: \"\";position: absolute;border-left: 1px solid gray;box-sizing: border-box;top: 0;bottom: 0;left: 50%;z-index: 0;}#sk-container-id-1 div.sk-serial {display: flex;flex-direction: column;align-items: center;background-color: white;padding-right: 0.2em;padding-left: 0.2em;position: relative;}#sk-container-id-1 div.sk-item {position: relative;z-index: 1;}#sk-container-id-1 div.sk-parallel {display: flex;align-items: stretch;justify-content: center;background-color: white;position: relative;}#sk-container-id-1 div.sk-item::before, #sk-container-id-1 div.sk-parallel-item::before {content: \"\";position: absolute;border-left: 1px solid gray;box-sizing: border-box;top: 0;bottom: 0;left: 50%;z-index: -1;}#sk-container-id-1 div.sk-parallel-item {display: flex;flex-direction: column;z-index: 1;position: relative;background-color: white;}#sk-container-id-1 div.sk-parallel-item:first-child::after {align-self: flex-end;width: 50%;}#sk-container-id-1 div.sk-parallel-item:last-child::after {align-self: flex-start;width: 50%;}#sk-container-id-1 div.sk-parallel-item:only-child::after {width: 0;}#sk-container-id-1 div.sk-dashed-wrapped {border: 1px dashed gray;margin: 0 0.4em 0.5em 0.4em;box-sizing: border-box;padding-bottom: 0.4em;background-color: white;}#sk-container-id-1 div.sk-label label {font-family: monospace;font-weight: bold;display: inline-block;line-height: 1.2em;}#sk-container-id-1 div.sk-label-container {text-align: center;}#sk-container-id-1 div.sk-container {/* jupyter's `normalize.less` sets `[hidden] { display: none; }` but bootstrap.min.css set `[hidden] { display: none !important; }` so we also need the `!important` here to be able to override the default hidden behavior on the sphinx rendered scikit-learn.org. See: https://github.com/scikit-learn/scikit-learn/issues/21755 */display: inline-block !important;position: relative;}#sk-container-id-1 div.sk-text-repr-fallback {display: none;}</style><div id=\"sk-container-id-1\" class=\"sk-top-container\"><div class=\"sk-text-repr-fallback\"><pre>GradientBoostingClassifier()</pre><b>In a Jupyter environment, please rerun this cell to show the HTML representation or trust the notebook. <br />On GitHub, the HTML representation is unable to render, please try loading this page with nbviewer.org.</b></div><div class=\"sk-container\" hidden><div class=\"sk-item\"><div class=\"sk-estimator sk-toggleable\"><input class=\"sk-toggleable__control sk-hidden--visually\" id=\"sk-estimator-id-1\" type=\"checkbox\" checked><label for=\"sk-estimator-id-1\" class=\"sk-toggleable__label sk-toggleable__label-arrow\">GradientBoostingClassifier</label><div class=\"sk-toggleable__content\"><pre>GradientBoostingClassifier()</pre></div></div></div></div></div>"
      ],
      "text/plain": [
       "GradientBoostingClassifier()"
      ]
     },
     "execution_count": 9,
     "metadata": {},
     "output_type": "execute_result"
    }
   ],
   "source": [
    "from sklearn.ensemble import RandomForestClassifier, GradientBoostingClassifier\n",
    "# Gradient Boosting\n",
    "gb = GradientBoostingClassifier()\n",
    "gb.fit(X_train, y_train)\n"
   ]
  },
  {
   "cell_type": "code",
   "execution_count": 10,
   "id": "192cdf88",
   "metadata": {
    "execution": {
     "iopub.execute_input": "2024-06-18T14:20:25.988156Z",
     "iopub.status.busy": "2024-06-18T14:20:25.987701Z",
     "iopub.status.idle": "2024-06-18T14:20:26.030265Z",
     "shell.execute_reply": "2024-06-18T14:20:26.028943Z"
    },
    "papermill": {
     "duration": 0.056336,
     "end_time": "2024-06-18T14:20:26.033185",
     "exception": false,
     "start_time": "2024-06-18T14:20:25.976849",
     "status": "completed"
    },
    "tags": []
   },
   "outputs": [],
   "source": [
    "y_pred = gb.predict(X_val)\n",
    "f1 = f1_score(y_val, y_pred)\n"
   ]
  },
  {
   "cell_type": "code",
   "execution_count": 11,
   "id": "7d7dcb87",
   "metadata": {
    "execution": {
     "iopub.execute_input": "2024-06-18T14:20:26.052103Z",
     "iopub.status.busy": "2024-06-18T14:20:26.051648Z",
     "iopub.status.idle": "2024-06-18T14:20:26.058210Z",
     "shell.execute_reply": "2024-06-18T14:20:26.056761Z"
    },
    "papermill": {
     "duration": 0.019136,
     "end_time": "2024-06-18T14:20:26.060895",
     "exception": false,
     "start_time": "2024-06-18T14:20:26.041759",
     "status": "completed"
    },
    "tags": []
   },
   "outputs": [
    {
     "name": "stdout",
     "output_type": "stream",
     "text": [
      "Gradient Boosting F1 score: 0.6707064264072716\n"
     ]
    }
   ],
   "source": [
    "print(f\"Gradient Boosting F1 score: {f1}\")"
   ]
  },
  {
   "cell_type": "code",
   "execution_count": 12,
   "id": "ce759f2c",
   "metadata": {
    "execution": {
     "iopub.execute_input": "2024-06-18T14:20:26.081221Z",
     "iopub.status.busy": "2024-06-18T14:20:26.080000Z",
     "iopub.status.idle": "2024-06-18T14:20:26.190206Z",
     "shell.execute_reply": "2024-06-18T14:20:26.189026Z"
    },
    "papermill": {
     "duration": 0.123682,
     "end_time": "2024-06-18T14:20:26.193166",
     "exception": false,
     "start_time": "2024-06-18T14:20:26.069484",
     "status": "completed"
    },
    "tags": []
   },
   "outputs": [],
   "source": [
    "test_data = pd.read_csv(\"/kaggle/input/week4-practice-hackathon-2024/Test.csv\")"
   ]
  },
  {
   "cell_type": "code",
   "execution_count": 13,
   "id": "c553e4dc",
   "metadata": {
    "execution": {
     "iopub.execute_input": "2024-06-18T14:20:26.214737Z",
     "iopub.status.busy": "2024-06-18T14:20:26.213764Z",
     "iopub.status.idle": "2024-06-18T14:20:26.222009Z",
     "shell.execute_reply": "2024-06-18T14:20:26.220590Z"
    },
    "papermill": {
     "duration": 0.021398,
     "end_time": "2024-06-18T14:20:26.224854",
     "exception": false,
     "start_time": "2024-06-18T14:20:26.203456",
     "status": "completed"
    },
    "tags": []
   },
   "outputs": [
    {
     "data": {
      "text/plain": [
       "(17476, 32)"
      ]
     },
     "execution_count": 13,
     "metadata": {},
     "output_type": "execute_result"
    }
   ],
   "source": [
    "test_data.shape"
   ]
  },
  {
   "cell_type": "code",
   "execution_count": 14,
   "id": "da7184ca",
   "metadata": {
    "execution": {
     "iopub.execute_input": "2024-06-18T14:20:26.244131Z",
     "iopub.status.busy": "2024-06-18T14:20:26.243648Z",
     "iopub.status.idle": "2024-06-18T14:20:26.251914Z",
     "shell.execute_reply": "2024-06-18T14:20:26.250893Z"
    },
    "papermill": {
     "duration": 0.020734,
     "end_time": "2024-06-18T14:20:26.254476",
     "exception": false,
     "start_time": "2024-06-18T14:20:26.233742",
     "status": "completed"
    },
    "tags": []
   },
   "outputs": [],
   "source": [
    "Index=test_data['Index']\n",
    "test_data.drop(['Index'],axis=1,inplace=True)"
   ]
  },
  {
   "cell_type": "code",
   "execution_count": 15,
   "id": "340ff7a9",
   "metadata": {
    "execution": {
     "iopub.execute_input": "2024-06-18T14:20:26.274056Z",
     "iopub.status.busy": "2024-06-18T14:20:26.273618Z",
     "iopub.status.idle": "2024-06-18T14:20:26.319148Z",
     "shell.execute_reply": "2024-06-18T14:20:26.317973Z"
    },
    "papermill": {
     "duration": 0.058773,
     "end_time": "2024-06-18T14:20:26.322044",
     "exception": false,
     "start_time": "2024-06-18T14:20:26.263271",
     "status": "completed"
    },
    "tags": []
   },
   "outputs": [],
   "source": [
    "y_test = gb.predict(test_data)"
   ]
  },
  {
   "cell_type": "code",
   "execution_count": 16,
   "id": "1f9eb58a",
   "metadata": {
    "execution": {
     "iopub.execute_input": "2024-06-18T14:20:26.342844Z",
     "iopub.status.busy": "2024-06-18T14:20:26.342422Z",
     "iopub.status.idle": "2024-06-18T14:20:26.350180Z",
     "shell.execute_reply": "2024-06-18T14:20:26.349024Z"
    },
    "papermill": {
     "duration": 0.020441,
     "end_time": "2024-06-18T14:20:26.352646",
     "exception": false,
     "start_time": "2024-06-18T14:20:26.332205",
     "status": "completed"
    },
    "tags": []
   },
   "outputs": [
    {
     "data": {
      "text/plain": [
       "array([0, 0, 1, ..., 1, 0, 0])"
      ]
     },
     "execution_count": 16,
     "metadata": {},
     "output_type": "execute_result"
    }
   ],
   "source": [
    "y_test"
   ]
  },
  {
   "cell_type": "code",
   "execution_count": 17,
   "id": "eeb00456",
   "metadata": {
    "execution": {
     "iopub.execute_input": "2024-06-18T14:20:26.372291Z",
     "iopub.status.busy": "2024-06-18T14:20:26.371883Z",
     "iopub.status.idle": "2024-06-18T14:20:26.378328Z",
     "shell.execute_reply": "2024-06-18T14:20:26.376892Z"
    },
    "papermill": {
     "duration": 0.019231,
     "end_time": "2024-06-18T14:20:26.381002",
     "exception": false,
     "start_time": "2024-06-18T14:20:26.361771",
     "status": "completed"
    },
    "tags": []
   },
   "outputs": [],
   "source": [
    "result = pd.DataFrame({\n",
    "    'Index': Index,\n",
    "    'class': y_test\n",
    "})"
   ]
  },
  {
   "cell_type": "code",
   "execution_count": 18,
   "id": "97dfed30",
   "metadata": {
    "execution": {
     "iopub.execute_input": "2024-06-18T14:20:26.400868Z",
     "iopub.status.busy": "2024-06-18T14:20:26.400489Z",
     "iopub.status.idle": "2024-06-18T14:20:26.412784Z",
     "shell.execute_reply": "2024-06-18T14:20:26.411654Z"
    },
    "papermill": {
     "duration": 0.025381,
     "end_time": "2024-06-18T14:20:26.415362",
     "exception": false,
     "start_time": "2024-06-18T14:20:26.389981",
     "status": "completed"
    },
    "tags": []
   },
   "outputs": [
    {
     "data": {
      "text/html": [
       "<div>\n",
       "<style scoped>\n",
       "    .dataframe tbody tr th:only-of-type {\n",
       "        vertical-align: middle;\n",
       "    }\n",
       "\n",
       "    .dataframe tbody tr th {\n",
       "        vertical-align: top;\n",
       "    }\n",
       "\n",
       "    .dataframe thead th {\n",
       "        text-align: right;\n",
       "    }\n",
       "</style>\n",
       "<table border=\"1\" class=\"dataframe\">\n",
       "  <thead>\n",
       "    <tr style=\"text-align: right;\">\n",
       "      <th></th>\n",
       "      <th>Index</th>\n",
       "      <th>class</th>\n",
       "    </tr>\n",
       "  </thead>\n",
       "  <tbody>\n",
       "    <tr>\n",
       "      <th>0</th>\n",
       "      <td>40977</td>\n",
       "      <td>0</td>\n",
       "    </tr>\n",
       "    <tr>\n",
       "      <th>1</th>\n",
       "      <td>24157</td>\n",
       "      <td>0</td>\n",
       "    </tr>\n",
       "    <tr>\n",
       "      <th>2</th>\n",
       "      <td>56238</td>\n",
       "      <td>1</td>\n",
       "    </tr>\n",
       "    <tr>\n",
       "      <th>3</th>\n",
       "      <td>55411</td>\n",
       "      <td>1</td>\n",
       "    </tr>\n",
       "    <tr>\n",
       "      <th>4</th>\n",
       "      <td>53175</td>\n",
       "      <td>0</td>\n",
       "    </tr>\n",
       "    <tr>\n",
       "      <th>...</th>\n",
       "      <td>...</td>\n",
       "      <td>...</td>\n",
       "    </tr>\n",
       "    <tr>\n",
       "      <th>17471</th>\n",
       "      <td>17197</td>\n",
       "      <td>1</td>\n",
       "    </tr>\n",
       "    <tr>\n",
       "      <th>17472</th>\n",
       "      <td>14094</td>\n",
       "      <td>0</td>\n",
       "    </tr>\n",
       "    <tr>\n",
       "      <th>17473</th>\n",
       "      <td>34598</td>\n",
       "      <td>1</td>\n",
       "    </tr>\n",
       "    <tr>\n",
       "      <th>17474</th>\n",
       "      <td>17845</td>\n",
       "      <td>0</td>\n",
       "    </tr>\n",
       "    <tr>\n",
       "      <th>17475</th>\n",
       "      <td>11574</td>\n",
       "      <td>0</td>\n",
       "    </tr>\n",
       "  </tbody>\n",
       "</table>\n",
       "<p>17476 rows × 2 columns</p>\n",
       "</div>"
      ],
      "text/plain": [
       "       Index  class\n",
       "0      40977      0\n",
       "1      24157      0\n",
       "2      56238      1\n",
       "3      55411      1\n",
       "4      53175      0\n",
       "...      ...    ...\n",
       "17471  17197      1\n",
       "17472  14094      0\n",
       "17473  34598      1\n",
       "17474  17845      0\n",
       "17475  11574      0\n",
       "\n",
       "[17476 rows x 2 columns]"
      ]
     },
     "execution_count": 18,
     "metadata": {},
     "output_type": "execute_result"
    }
   ],
   "source": [
    "result"
   ]
  },
  {
   "cell_type": "code",
   "execution_count": 19,
   "id": "de682f00",
   "metadata": {
    "execution": {
     "iopub.execute_input": "2024-06-18T14:20:26.435661Z",
     "iopub.status.busy": "2024-06-18T14:20:26.435221Z",
     "iopub.status.idle": "2024-06-18T14:20:26.467643Z",
     "shell.execute_reply": "2024-06-18T14:20:26.466393Z"
    },
    "papermill": {
     "duration": 0.046003,
     "end_time": "2024-06-18T14:20:26.470586",
     "exception": false,
     "start_time": "2024-06-18T14:20:26.424583",
     "status": "completed"
    },
    "tags": []
   },
   "outputs": [],
   "source": [
    "result.to_csv(\"submission4iitg.csv\", index=False) #(for making submission file)"
   ]
  },
  {
   "cell_type": "code",
   "execution_count": null,
   "id": "1d4c0d6e",
   "metadata": {
    "papermill": {
     "duration": 0.0089,
     "end_time": "2024-06-18T14:20:26.488666",
     "exception": false,
     "start_time": "2024-06-18T14:20:26.479766",
     "status": "completed"
    },
    "tags": []
   },
   "outputs": [],
   "source": []
  }
 ],
 "metadata": {
  "kaggle": {
   "accelerator": "none",
   "dataSources": [
    {
     "databundleVersionId": 8809707,
     "sourceId": 81427,
     "sourceType": "competition"
    }
   ],
   "dockerImageVersionId": 30732,
   "isGpuEnabled": false,
   "isInternetEnabled": false,
   "language": "python",
   "sourceType": "notebook"
  },
  "kernelspec": {
   "display_name": "Python 3",
   "language": "python",
   "name": "python3"
  },
  "language_info": {
   "codemirror_mode": {
    "name": "ipython",
    "version": 3
   },
   "file_extension": ".py",
   "mimetype": "text/x-python",
   "name": "python",
   "nbconvert_exporter": "python",
   "pygments_lexer": "ipython3",
   "version": "3.10.13"
  },
  "papermill": {
   "default_parameters": {},
   "duration": 17.830699,
   "end_time": "2024-06-18T14:20:27.220247",
   "environment_variables": {},
   "exception": null,
   "input_path": "__notebook__.ipynb",
   "output_path": "__notebook__.ipynb",
   "parameters": {},
   "start_time": "2024-06-18T14:20:09.389548",
   "version": "2.5.0"
  }
 },
 "nbformat": 4,
 "nbformat_minor": 5
}
