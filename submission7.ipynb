{
 "cells": [
  {
   "cell_type": "code",
   "execution_count": 1,
   "id": "be35540c",
   "metadata": {
    "_cell_guid": "b1076dfc-b9ad-4769-8c92-a6c4dae69d19",
    "_uuid": "8f2839f25d086af736a60e9eeb907d3b93b6e0e5",
    "execution": {
     "iopub.execute_input": "2024-06-18T15:21:49.210303Z",
     "iopub.status.busy": "2024-06-18T15:21:49.209850Z",
     "iopub.status.idle": "2024-06-18T15:21:52.253776Z",
     "shell.execute_reply": "2024-06-18T15:21:52.252446Z"
    },
    "papermill": {
     "duration": 3.056086,
     "end_time": "2024-06-18T15:21:52.256506",
     "exception": false,
     "start_time": "2024-06-18T15:21:49.200420",
     "status": "completed"
    },
    "tags": []
   },
   "outputs": [
    {
     "name": "stdout",
     "output_type": "stream",
     "text": [
      "/kaggle/input/week4-practice-hackathon-2024/sample_submission.csv\n",
      "/kaggle/input/week4-practice-hackathon-2024/Train.csv\n",
      "/kaggle/input/week4-practice-hackathon-2024/Test.csv\n"
     ]
    }
   ],
   "source": [
    "# This Python 3 environment comes with many helpful analytics libraries installed\n",
    "# It is defined by the kaggle/python Docker image: https://github.com/kaggle/docker-python\n",
    "# For example, here's several helpful packages to load\n",
    "\n",
    "import numpy as np # linear algebra\n",
    "import pandas as pd # data processing, CSV file I/O (e.g. pd.read_csv)\n",
    "from sklearn import preprocessing\n",
    "from sklearn.model_selection import train_test_split\n",
    "from sklearn.linear_model import LogisticRegression\n",
    "from tqdm.auto import tqdm\n",
    "from sklearn.metrics import f1_score\n",
    "\n",
    "# Input data files are available in the read-only \"../input/\" directory\n",
    "# For example, running this (by clicking run or pressing Shift+Enter) will list all files under the input directory\n",
    "\n",
    "import os\n",
    "for dirname, _, filenames in os.walk('/kaggle/input'):\n",
    "    for filename in filenames:\n",
    "        print(os.path.join(dirname, filename))\n",
    "\n",
    "# You can write up to 20GB to the current directory (/kaggle/working/) that gets preserved as output when you create a version using \"Save & Run All\"\n",
    "# You can also write temporary files to /kaggle/temp/, but they won't be saved outside of the current session"
   ]
  },
  {
   "cell_type": "code",
   "execution_count": 2,
   "id": "0dde2015",
   "metadata": {
    "execution": {
     "iopub.execute_input": "2024-06-18T15:21:52.273179Z",
     "iopub.status.busy": "2024-06-18T15:21:52.272267Z",
     "iopub.status.idle": "2024-06-18T15:21:52.514031Z",
     "shell.execute_reply": "2024-06-18T15:21:52.512528Z"
    },
    "papermill": {
     "duration": 0.253079,
     "end_time": "2024-06-18T15:21:52.516874",
     "exception": false,
     "start_time": "2024-06-18T15:21:52.263795",
     "status": "completed"
    },
    "tags": []
   },
   "outputs": [],
   "source": [
    "train_df = pd.read_csv(\"/kaggle/input/week4-practice-hackathon-2024/Train.csv\")"
   ]
  },
  {
   "cell_type": "code",
   "execution_count": 3,
   "id": "a585c5f2",
   "metadata": {
    "execution": {
     "iopub.execute_input": "2024-06-18T15:21:52.533902Z",
     "iopub.status.busy": "2024-06-18T15:21:52.533507Z",
     "iopub.status.idle": "2024-06-18T15:21:52.539144Z",
     "shell.execute_reply": "2024-06-18T15:21:52.537921Z"
    },
    "papermill": {
     "duration": 0.016604,
     "end_time": "2024-06-18T15:21:52.541460",
     "exception": false,
     "start_time": "2024-06-18T15:21:52.524856",
     "status": "completed"
    },
    "tags": []
   },
   "outputs": [
    {
     "name": "stdout",
     "output_type": "stream",
     "text": [
      "(40776, 32)\n"
     ]
    }
   ],
   "source": [
    "print(train_df.shape)"
   ]
  },
  {
   "cell_type": "code",
   "execution_count": 4,
   "id": "0d03f1b9",
   "metadata": {
    "execution": {
     "iopub.execute_input": "2024-06-18T15:21:52.557852Z",
     "iopub.status.busy": "2024-06-18T15:21:52.557419Z",
     "iopub.status.idle": "2024-06-18T15:21:52.604868Z",
     "shell.execute_reply": "2024-06-18T15:21:52.603755Z"
    },
    "papermill": {
     "duration": 0.058776,
     "end_time": "2024-06-18T15:21:52.607577",
     "exception": false,
     "start_time": "2024-06-18T15:21:52.548801",
     "status": "completed"
    },
    "tags": []
   },
   "outputs": [
    {
     "data": {
      "text/html": [
       "<div>\n",
       "<style scoped>\n",
       "    .dataframe tbody tr th:only-of-type {\n",
       "        vertical-align: middle;\n",
       "    }\n",
       "\n",
       "    .dataframe tbody tr th {\n",
       "        vertical-align: top;\n",
       "    }\n",
       "\n",
       "    .dataframe thead th {\n",
       "        text-align: right;\n",
       "    }\n",
       "</style>\n",
       "<table border=\"1\" class=\"dataframe\">\n",
       "  <thead>\n",
       "    <tr style=\"text-align: right;\">\n",
       "      <th></th>\n",
       "      <th>V1</th>\n",
       "      <th>V2</th>\n",
       "      <th>V3</th>\n",
       "      <th>V4</th>\n",
       "      <th>V5</th>\n",
       "      <th>V6</th>\n",
       "      <th>V7</th>\n",
       "      <th>V8</th>\n",
       "      <th>V9</th>\n",
       "      <th>V10</th>\n",
       "      <th>...</th>\n",
       "      <th>V45</th>\n",
       "      <th>V47</th>\n",
       "      <th>V50</th>\n",
       "      <th>V51</th>\n",
       "      <th>V52</th>\n",
       "      <th>V59</th>\n",
       "      <th>V63</th>\n",
       "      <th>V72</th>\n",
       "      <th>V75</th>\n",
       "      <th>class</th>\n",
       "    </tr>\n",
       "  </thead>\n",
       "  <tbody>\n",
       "    <tr>\n",
       "      <th>0</th>\n",
       "      <td>0.0</td>\n",
       "      <td>1.0</td>\n",
       "      <td>243.0</td>\n",
       "      <td>29</td>\n",
       "      <td>4528.0</td>\n",
       "      <td>138.0</td>\n",
       "      <td>3.0</td>\n",
       "      <td>29</td>\n",
       "      <td>201.0</td>\n",
       "      <td>0.0</td>\n",
       "      <td>...</td>\n",
       "      <td>2</td>\n",
       "      <td>3</td>\n",
       "      <td>71.0</td>\n",
       "      <td>0</td>\n",
       "      <td>0</td>\n",
       "      <td>46.0</td>\n",
       "      <td>1</td>\n",
       "      <td>2</td>\n",
       "      <td>0</td>\n",
       "      <td>1</td>\n",
       "    </tr>\n",
       "    <tr>\n",
       "      <th>1</th>\n",
       "      <td>0.0</td>\n",
       "      <td>20.0</td>\n",
       "      <td>8.0</td>\n",
       "      <td>14</td>\n",
       "      <td>4183.0</td>\n",
       "      <td>183.0</td>\n",
       "      <td>4.0</td>\n",
       "      <td>26</td>\n",
       "      <td>156.0</td>\n",
       "      <td>0.0</td>\n",
       "      <td>...</td>\n",
       "      <td>5</td>\n",
       "      <td>7</td>\n",
       "      <td>20.0</td>\n",
       "      <td>0</td>\n",
       "      <td>2</td>\n",
       "      <td>13.0</td>\n",
       "      <td>9</td>\n",
       "      <td>6</td>\n",
       "      <td>0</td>\n",
       "      <td>1</td>\n",
       "    </tr>\n",
       "    <tr>\n",
       "      <th>2</th>\n",
       "      <td>14.0</td>\n",
       "      <td>2.0</td>\n",
       "      <td>2.0</td>\n",
       "      <td>9</td>\n",
       "      <td>1113.0</td>\n",
       "      <td>15.0</td>\n",
       "      <td>37.0</td>\n",
       "      <td>31</td>\n",
       "      <td>78.0</td>\n",
       "      <td>1.0</td>\n",
       "      <td>...</td>\n",
       "      <td>7</td>\n",
       "      <td>5</td>\n",
       "      <td>11.0</td>\n",
       "      <td>0</td>\n",
       "      <td>0</td>\n",
       "      <td>7.0</td>\n",
       "      <td>9</td>\n",
       "      <td>2</td>\n",
       "      <td>1</td>\n",
       "      <td>0</td>\n",
       "    </tr>\n",
       "    <tr>\n",
       "      <th>3</th>\n",
       "      <td>0.0</td>\n",
       "      <td>175.0</td>\n",
       "      <td>17.0</td>\n",
       "      <td>16</td>\n",
       "      <td>4250.0</td>\n",
       "      <td>68.0</td>\n",
       "      <td>8.0</td>\n",
       "      <td>30</td>\n",
       "      <td>152.0</td>\n",
       "      <td>0.0</td>\n",
       "      <td>...</td>\n",
       "      <td>1</td>\n",
       "      <td>3</td>\n",
       "      <td>0.0</td>\n",
       "      <td>1</td>\n",
       "      <td>1</td>\n",
       "      <td>31.0</td>\n",
       "      <td>6</td>\n",
       "      <td>4</td>\n",
       "      <td>5</td>\n",
       "      <td>1</td>\n",
       "    </tr>\n",
       "    <tr>\n",
       "      <th>4</th>\n",
       "      <td>2.0</td>\n",
       "      <td>-1.0</td>\n",
       "      <td>1.0</td>\n",
       "      <td>3</td>\n",
       "      <td>0.0</td>\n",
       "      <td>0.0</td>\n",
       "      <td>2.0</td>\n",
       "      <td>5</td>\n",
       "      <td>6.0</td>\n",
       "      <td>1.0</td>\n",
       "      <td>...</td>\n",
       "      <td>1</td>\n",
       "      <td>5</td>\n",
       "      <td>0.0</td>\n",
       "      <td>0</td>\n",
       "      <td>0</td>\n",
       "      <td>2.0</td>\n",
       "      <td>8</td>\n",
       "      <td>0</td>\n",
       "      <td>1</td>\n",
       "      <td>1</td>\n",
       "    </tr>\n",
       "  </tbody>\n",
       "</table>\n",
       "<p>5 rows × 32 columns</p>\n",
       "</div>"
      ],
      "text/plain": [
       "     V1     V2     V3  V4      V5     V6    V7  V8     V9  V10  ...  V45  V47  \\\n",
       "0   0.0    1.0  243.0  29  4528.0  138.0   3.0  29  201.0  0.0  ...    2    3   \n",
       "1   0.0   20.0    8.0  14  4183.0  183.0   4.0  26  156.0  0.0  ...    5    7   \n",
       "2  14.0    2.0    2.0   9  1113.0   15.0  37.0  31   78.0  1.0  ...    7    5   \n",
       "3   0.0  175.0   17.0  16  4250.0   68.0   8.0  30  152.0  0.0  ...    1    3   \n",
       "4   2.0   -1.0    1.0   3     0.0    0.0   2.0   5    6.0  1.0  ...    1    5   \n",
       "\n",
       "    V50  V51  V52   V59  V63  V72  V75  class  \n",
       "0  71.0    0    0  46.0    1    2    0      1  \n",
       "1  20.0    0    2  13.0    9    6    0      1  \n",
       "2  11.0    0    0   7.0    9    2    1      0  \n",
       "3   0.0    1    1  31.0    6    4    5      1  \n",
       "4   0.0    0    0   2.0    8    0    1      1  \n",
       "\n",
       "[5 rows x 32 columns]"
      ]
     },
     "execution_count": 4,
     "metadata": {},
     "output_type": "execute_result"
    }
   ],
   "source": [
    "train_df.head()"
   ]
  },
  {
   "cell_type": "code",
   "execution_count": 5,
   "id": "10520af5",
   "metadata": {
    "execution": {
     "iopub.execute_input": "2024-06-18T15:21:52.624902Z",
     "iopub.status.busy": "2024-06-18T15:21:52.624500Z",
     "iopub.status.idle": "2024-06-18T15:21:52.632364Z",
     "shell.execute_reply": "2024-06-18T15:21:52.631145Z"
    },
    "papermill": {
     "duration": 0.019654,
     "end_time": "2024-06-18T15:21:52.634922",
     "exception": false,
     "start_time": "2024-06-18T15:21:52.615268",
     "status": "completed"
    },
    "tags": []
   },
   "outputs": [
    {
     "data": {
      "text/plain": [
       "Index(['V1', 'V2', 'V3', 'V4', 'V5', 'V6', 'V7', 'V8', 'V9', 'V10', 'V11',\n",
       "       'V13', 'V19', 'V22', 'V30', 'V33', 'V35', 'V36', 'V40', 'V41', 'V42',\n",
       "       'V43', 'V45', 'V47', 'V50', 'V51', 'V52', 'V59', 'V63', 'V72', 'V75',\n",
       "       'class'],\n",
       "      dtype='object')"
      ]
     },
     "execution_count": 5,
     "metadata": {},
     "output_type": "execute_result"
    }
   ],
   "source": [
    "train_df.columns"
   ]
  },
  {
   "cell_type": "code",
   "execution_count": 6,
   "id": "7a6cafc0",
   "metadata": {
    "execution": {
     "iopub.execute_input": "2024-06-18T15:21:52.653005Z",
     "iopub.status.busy": "2024-06-18T15:21:52.652632Z",
     "iopub.status.idle": "2024-06-18T15:21:52.664120Z",
     "shell.execute_reply": "2024-06-18T15:21:52.662972Z"
    },
    "papermill": {
     "duration": 0.023629,
     "end_time": "2024-06-18T15:21:52.666901",
     "exception": false,
     "start_time": "2024-06-18T15:21:52.643272",
     "status": "completed"
    },
    "tags": []
   },
   "outputs": [],
   "source": [
    "X = train_df.drop(['class'], axis=1)\n",
    "y = train_df['class']"
   ]
  },
  {
   "cell_type": "code",
   "execution_count": 7,
   "id": "3193d958",
   "metadata": {
    "execution": {
     "iopub.execute_input": "2024-06-18T15:21:52.686089Z",
     "iopub.status.busy": "2024-06-18T15:21:52.685712Z",
     "iopub.status.idle": "2024-06-18T15:21:52.715671Z",
     "shell.execute_reply": "2024-06-18T15:21:52.714224Z"
    },
    "papermill": {
     "duration": 0.042981,
     "end_time": "2024-06-18T15:21:52.718389",
     "exception": false,
     "start_time": "2024-06-18T15:21:52.675408",
     "status": "completed"
    },
    "tags": []
   },
   "outputs": [],
   "source": [
    "X_train, X_val, y_train, y_val = train_test_split(X, y, test_size = 0.3)"
   ]
  },
  {
   "cell_type": "code",
   "execution_count": 8,
   "id": "77515efd",
   "metadata": {
    "execution": {
     "iopub.execute_input": "2024-06-18T15:21:52.737663Z",
     "iopub.status.busy": "2024-06-18T15:21:52.737235Z",
     "iopub.status.idle": "2024-06-18T15:21:52.752787Z",
     "shell.execute_reply": "2024-06-18T15:21:52.751495Z"
    },
    "papermill": {
     "duration": 0.029316,
     "end_time": "2024-06-18T15:21:52.756087",
     "exception": false,
     "start_time": "2024-06-18T15:21:52.726771",
     "status": "completed"
    },
    "tags": []
   },
   "outputs": [
    {
     "name": "stdout",
     "output_type": "stream",
     "text": [
      "class\n",
      "1    14360\n",
      "0    14183\n",
      "Name: count, dtype: int64\n"
     ]
    }
   ],
   "source": [
    "print(y_train.value_counts())"
   ]
  },
  {
   "cell_type": "code",
   "execution_count": 9,
   "id": "21cf1ff2",
   "metadata": {
    "execution": {
     "iopub.execute_input": "2024-06-18T15:21:52.774948Z",
     "iopub.status.busy": "2024-06-18T15:21:52.774528Z",
     "iopub.status.idle": "2024-06-18T15:21:55.297635Z",
     "shell.execute_reply": "2024-06-18T15:21:55.296520Z"
    },
    "papermill": {
     "duration": 2.535123,
     "end_time": "2024-06-18T15:21:55.300117",
     "exception": false,
     "start_time": "2024-06-18T15:21:52.764994",
     "status": "completed"
    },
    "tags": []
   },
   "outputs": [
    {
     "name": "stdout",
     "output_type": "stream",
     "text": [
      "[LightGBM] [Info] Number of positive: 14360, number of negative: 14183\n",
      "[LightGBM] [Info] Auto-choosing row-wise multi-threading, the overhead of testing was 0.007933 seconds.\n",
      "You can set `force_row_wise=true` to remove the overhead.\n",
      "And if memory is not enough, you can set `force_col_wise=true`.\n",
      "[LightGBM] [Info] Total Bins 3282\n",
      "[LightGBM] [Info] Number of data points in the train set: 28543, number of used features: 31\n",
      "[LightGBM] [Info] [binary:BoostFromScore]: pavg=0.503101 -> initscore=0.012402\n",
      "[LightGBM] [Info] Start training from score 0.012402\n"
     ]
    },
    {
     "data": {
      "text/html": [
       "<style>#sk-container-id-1 {color: black;background-color: white;}#sk-container-id-1 pre{padding: 0;}#sk-container-id-1 div.sk-toggleable {background-color: white;}#sk-container-id-1 label.sk-toggleable__label {cursor: pointer;display: block;width: 100%;margin-bottom: 0;padding: 0.3em;box-sizing: border-box;text-align: center;}#sk-container-id-1 label.sk-toggleable__label-arrow:before {content: \"▸\";float: left;margin-right: 0.25em;color: #696969;}#sk-container-id-1 label.sk-toggleable__label-arrow:hover:before {color: black;}#sk-container-id-1 div.sk-estimator:hover label.sk-toggleable__label-arrow:before {color: black;}#sk-container-id-1 div.sk-toggleable__content {max-height: 0;max-width: 0;overflow: hidden;text-align: left;background-color: #f0f8ff;}#sk-container-id-1 div.sk-toggleable__content pre {margin: 0.2em;color: black;border-radius: 0.25em;background-color: #f0f8ff;}#sk-container-id-1 input.sk-toggleable__control:checked~div.sk-toggleable__content {max-height: 200px;max-width: 100%;overflow: auto;}#sk-container-id-1 input.sk-toggleable__control:checked~label.sk-toggleable__label-arrow:before {content: \"▾\";}#sk-container-id-1 div.sk-estimator input.sk-toggleable__control:checked~label.sk-toggleable__label {background-color: #d4ebff;}#sk-container-id-1 div.sk-label input.sk-toggleable__control:checked~label.sk-toggleable__label {background-color: #d4ebff;}#sk-container-id-1 input.sk-hidden--visually {border: 0;clip: rect(1px 1px 1px 1px);clip: rect(1px, 1px, 1px, 1px);height: 1px;margin: -1px;overflow: hidden;padding: 0;position: absolute;width: 1px;}#sk-container-id-1 div.sk-estimator {font-family: monospace;background-color: #f0f8ff;border: 1px dotted black;border-radius: 0.25em;box-sizing: border-box;margin-bottom: 0.5em;}#sk-container-id-1 div.sk-estimator:hover {background-color: #d4ebff;}#sk-container-id-1 div.sk-parallel-item::after {content: \"\";width: 100%;border-bottom: 1px solid gray;flex-grow: 1;}#sk-container-id-1 div.sk-label:hover label.sk-toggleable__label {background-color: #d4ebff;}#sk-container-id-1 div.sk-serial::before {content: \"\";position: absolute;border-left: 1px solid gray;box-sizing: border-box;top: 0;bottom: 0;left: 50%;z-index: 0;}#sk-container-id-1 div.sk-serial {display: flex;flex-direction: column;align-items: center;background-color: white;padding-right: 0.2em;padding-left: 0.2em;position: relative;}#sk-container-id-1 div.sk-item {position: relative;z-index: 1;}#sk-container-id-1 div.sk-parallel {display: flex;align-items: stretch;justify-content: center;background-color: white;position: relative;}#sk-container-id-1 div.sk-item::before, #sk-container-id-1 div.sk-parallel-item::before {content: \"\";position: absolute;border-left: 1px solid gray;box-sizing: border-box;top: 0;bottom: 0;left: 50%;z-index: -1;}#sk-container-id-1 div.sk-parallel-item {display: flex;flex-direction: column;z-index: 1;position: relative;background-color: white;}#sk-container-id-1 div.sk-parallel-item:first-child::after {align-self: flex-end;width: 50%;}#sk-container-id-1 div.sk-parallel-item:last-child::after {align-self: flex-start;width: 50%;}#sk-container-id-1 div.sk-parallel-item:only-child::after {width: 0;}#sk-container-id-1 div.sk-dashed-wrapped {border: 1px dashed gray;margin: 0 0.4em 0.5em 0.4em;box-sizing: border-box;padding-bottom: 0.4em;background-color: white;}#sk-container-id-1 div.sk-label label {font-family: monospace;font-weight: bold;display: inline-block;line-height: 1.2em;}#sk-container-id-1 div.sk-label-container {text-align: center;}#sk-container-id-1 div.sk-container {/* jupyter's `normalize.less` sets `[hidden] { display: none; }` but bootstrap.min.css set `[hidden] { display: none !important; }` so we also need the `!important` here to be able to override the default hidden behavior on the sphinx rendered scikit-learn.org. See: https://github.com/scikit-learn/scikit-learn/issues/21755 */display: inline-block !important;position: relative;}#sk-container-id-1 div.sk-text-repr-fallback {display: none;}</style><div id=\"sk-container-id-1\" class=\"sk-top-container\"><div class=\"sk-text-repr-fallback\"><pre>LGBMClassifier()</pre><b>In a Jupyter environment, please rerun this cell to show the HTML representation or trust the notebook. <br />On GitHub, the HTML representation is unable to render, please try loading this page with nbviewer.org.</b></div><div class=\"sk-container\" hidden><div class=\"sk-item\"><div class=\"sk-estimator sk-toggleable\"><input class=\"sk-toggleable__control sk-hidden--visually\" id=\"sk-estimator-id-1\" type=\"checkbox\" checked><label for=\"sk-estimator-id-1\" class=\"sk-toggleable__label sk-toggleable__label-arrow\">LGBMClassifier</label><div class=\"sk-toggleable__content\"><pre>LGBMClassifier()</pre></div></div></div></div></div>"
      ],
      "text/plain": [
       "LGBMClassifier()"
      ]
     },
     "execution_count": 9,
     "metadata": {},
     "output_type": "execute_result"
    }
   ],
   "source": [
    "from lightgbm import LGBMClassifier\n",
    "# LightGBM\n",
    "lgbm = LGBMClassifier()\n",
    "lgbm.fit(X_train, y_train)"
   ]
  },
  {
   "cell_type": "code",
   "execution_count": 10,
   "id": "759ec45d",
   "metadata": {
    "execution": {
     "iopub.execute_input": "2024-06-18T15:21:55.319181Z",
     "iopub.status.busy": "2024-06-18T15:21:55.318544Z",
     "iopub.status.idle": "2024-06-18T15:21:55.413635Z",
     "shell.execute_reply": "2024-06-18T15:21:55.412310Z"
    },
    "papermill": {
     "duration": 0.108729,
     "end_time": "2024-06-18T15:21:55.417082",
     "exception": false,
     "start_time": "2024-06-18T15:21:55.308353",
     "status": "completed"
    },
    "tags": []
   },
   "outputs": [],
   "source": [
    "y_pred = lgbm.predict(X_val)\n",
    "f1 = f1_score(y_val, y_pred)"
   ]
  },
  {
   "cell_type": "code",
   "execution_count": 11,
   "id": "22a7c256",
   "metadata": {
    "execution": {
     "iopub.execute_input": "2024-06-18T15:21:55.442239Z",
     "iopub.status.busy": "2024-06-18T15:21:55.441830Z",
     "iopub.status.idle": "2024-06-18T15:21:55.448110Z",
     "shell.execute_reply": "2024-06-18T15:21:55.446943Z"
    },
    "papermill": {
     "duration": 0.020527,
     "end_time": "2024-06-18T15:21:55.450707",
     "exception": false,
     "start_time": "2024-06-18T15:21:55.430180",
     "status": "completed"
    },
    "tags": []
   },
   "outputs": [
    {
     "name": "stdout",
     "output_type": "stream",
     "text": [
      "LightGBM F1 score: 0.6733004298678555\n"
     ]
    }
   ],
   "source": [
    "print(f\"LightGBM F1 score: {f1}\")"
   ]
  },
  {
   "cell_type": "code",
   "execution_count": 12,
   "id": "93ada085",
   "metadata": {
    "execution": {
     "iopub.execute_input": "2024-06-18T15:21:55.469809Z",
     "iopub.status.busy": "2024-06-18T15:21:55.469215Z",
     "iopub.status.idle": "2024-06-18T15:21:55.574054Z",
     "shell.execute_reply": "2024-06-18T15:21:55.572773Z"
    },
    "papermill": {
     "duration": 0.118109,
     "end_time": "2024-06-18T15:21:55.577193",
     "exception": false,
     "start_time": "2024-06-18T15:21:55.459084",
     "status": "completed"
    },
    "tags": []
   },
   "outputs": [],
   "source": [
    "test_data = pd.read_csv(\"/kaggle/input/week4-practice-hackathon-2024/Test.csv\")"
   ]
  },
  {
   "cell_type": "code",
   "execution_count": 13,
   "id": "5b7e081e",
   "metadata": {
    "execution": {
     "iopub.execute_input": "2024-06-18T15:21:55.597339Z",
     "iopub.status.busy": "2024-06-18T15:21:55.596917Z",
     "iopub.status.idle": "2024-06-18T15:21:55.604605Z",
     "shell.execute_reply": "2024-06-18T15:21:55.603373Z"
    },
    "papermill": {
     "duration": 0.021299,
     "end_time": "2024-06-18T15:21:55.607443",
     "exception": false,
     "start_time": "2024-06-18T15:21:55.586144",
     "status": "completed"
    },
    "tags": []
   },
   "outputs": [
    {
     "data": {
      "text/plain": [
       "(17476, 32)"
      ]
     },
     "execution_count": 13,
     "metadata": {},
     "output_type": "execute_result"
    }
   ],
   "source": [
    "test_data.shape"
   ]
  },
  {
   "cell_type": "code",
   "execution_count": 14,
   "id": "5f2c1d40",
   "metadata": {
    "execution": {
     "iopub.execute_input": "2024-06-18T15:21:55.626228Z",
     "iopub.status.busy": "2024-06-18T15:21:55.625827Z",
     "iopub.status.idle": "2024-06-18T15:21:55.634906Z",
     "shell.execute_reply": "2024-06-18T15:21:55.633916Z"
    },
    "papermill": {
     "duration": 0.021482,
     "end_time": "2024-06-18T15:21:55.637445",
     "exception": false,
     "start_time": "2024-06-18T15:21:55.615963",
     "status": "completed"
    },
    "tags": []
   },
   "outputs": [],
   "source": [
    "Index=test_data['Index']\n",
    "test_data.drop(['Index'],axis=1,inplace=True)"
   ]
  },
  {
   "cell_type": "code",
   "execution_count": 15,
   "id": "dcf2bce1",
   "metadata": {
    "execution": {
     "iopub.execute_input": "2024-06-18T15:21:55.657324Z",
     "iopub.status.busy": "2024-06-18T15:21:55.656884Z",
     "iopub.status.idle": "2024-06-18T15:21:55.779555Z",
     "shell.execute_reply": "2024-06-18T15:21:55.778345Z"
    },
    "papermill": {
     "duration": 0.135592,
     "end_time": "2024-06-18T15:21:55.782531",
     "exception": false,
     "start_time": "2024-06-18T15:21:55.646939",
     "status": "completed"
    },
    "tags": []
   },
   "outputs": [],
   "source": [
    "y_test = lgbm.predict(test_data)"
   ]
  },
  {
   "cell_type": "code",
   "execution_count": 16,
   "id": "d7f47375",
   "metadata": {
    "execution": {
     "iopub.execute_input": "2024-06-18T15:21:55.803053Z",
     "iopub.status.busy": "2024-06-18T15:21:55.801863Z",
     "iopub.status.idle": "2024-06-18T15:21:55.809676Z",
     "shell.execute_reply": "2024-06-18T15:21:55.808501Z"
    },
    "papermill": {
     "duration": 0.020737,
     "end_time": "2024-06-18T15:21:55.812282",
     "exception": false,
     "start_time": "2024-06-18T15:21:55.791545",
     "status": "completed"
    },
    "tags": []
   },
   "outputs": [
    {
     "data": {
      "text/plain": [
       "array([0, 0, 1, ..., 1, 0, 0])"
      ]
     },
     "execution_count": 16,
     "metadata": {},
     "output_type": "execute_result"
    }
   ],
   "source": [
    "y_test"
   ]
  },
  {
   "cell_type": "code",
   "execution_count": 17,
   "id": "062f4015",
   "metadata": {
    "execution": {
     "iopub.execute_input": "2024-06-18T15:21:55.832118Z",
     "iopub.status.busy": "2024-06-18T15:21:55.831737Z",
     "iopub.status.idle": "2024-06-18T15:21:55.837619Z",
     "shell.execute_reply": "2024-06-18T15:21:55.836546Z"
    },
    "papermill": {
     "duration": 0.018527,
     "end_time": "2024-06-18T15:21:55.840076",
     "exception": false,
     "start_time": "2024-06-18T15:21:55.821549",
     "status": "completed"
    },
    "tags": []
   },
   "outputs": [],
   "source": [
    "result = pd.DataFrame({\n",
    "    'Index': Index,\n",
    "    'class': y_test\n",
    "})"
   ]
  },
  {
   "cell_type": "code",
   "execution_count": 18,
   "id": "1d82c6d6",
   "metadata": {
    "execution": {
     "iopub.execute_input": "2024-06-18T15:21:55.859558Z",
     "iopub.status.busy": "2024-06-18T15:21:55.859158Z",
     "iopub.status.idle": "2024-06-18T15:21:55.871410Z",
     "shell.execute_reply": "2024-06-18T15:21:55.870261Z"
    },
    "papermill": {
     "duration": 0.024962,
     "end_time": "2024-06-18T15:21:55.873881",
     "exception": false,
     "start_time": "2024-06-18T15:21:55.848919",
     "status": "completed"
    },
    "tags": []
   },
   "outputs": [
    {
     "data": {
      "text/html": [
       "<div>\n",
       "<style scoped>\n",
       "    .dataframe tbody tr th:only-of-type {\n",
       "        vertical-align: middle;\n",
       "    }\n",
       "\n",
       "    .dataframe tbody tr th {\n",
       "        vertical-align: top;\n",
       "    }\n",
       "\n",
       "    .dataframe thead th {\n",
       "        text-align: right;\n",
       "    }\n",
       "</style>\n",
       "<table border=\"1\" class=\"dataframe\">\n",
       "  <thead>\n",
       "    <tr style=\"text-align: right;\">\n",
       "      <th></th>\n",
       "      <th>Index</th>\n",
       "      <th>class</th>\n",
       "    </tr>\n",
       "  </thead>\n",
       "  <tbody>\n",
       "    <tr>\n",
       "      <th>0</th>\n",
       "      <td>40977</td>\n",
       "      <td>0</td>\n",
       "    </tr>\n",
       "    <tr>\n",
       "      <th>1</th>\n",
       "      <td>24157</td>\n",
       "      <td>0</td>\n",
       "    </tr>\n",
       "    <tr>\n",
       "      <th>2</th>\n",
       "      <td>56238</td>\n",
       "      <td>1</td>\n",
       "    </tr>\n",
       "    <tr>\n",
       "      <th>3</th>\n",
       "      <td>55411</td>\n",
       "      <td>1</td>\n",
       "    </tr>\n",
       "    <tr>\n",
       "      <th>4</th>\n",
       "      <td>53175</td>\n",
       "      <td>0</td>\n",
       "    </tr>\n",
       "    <tr>\n",
       "      <th>...</th>\n",
       "      <td>...</td>\n",
       "      <td>...</td>\n",
       "    </tr>\n",
       "    <tr>\n",
       "      <th>17471</th>\n",
       "      <td>17197</td>\n",
       "      <td>1</td>\n",
       "    </tr>\n",
       "    <tr>\n",
       "      <th>17472</th>\n",
       "      <td>14094</td>\n",
       "      <td>0</td>\n",
       "    </tr>\n",
       "    <tr>\n",
       "      <th>17473</th>\n",
       "      <td>34598</td>\n",
       "      <td>1</td>\n",
       "    </tr>\n",
       "    <tr>\n",
       "      <th>17474</th>\n",
       "      <td>17845</td>\n",
       "      <td>0</td>\n",
       "    </tr>\n",
       "    <tr>\n",
       "      <th>17475</th>\n",
       "      <td>11574</td>\n",
       "      <td>0</td>\n",
       "    </tr>\n",
       "  </tbody>\n",
       "</table>\n",
       "<p>17476 rows × 2 columns</p>\n",
       "</div>"
      ],
      "text/plain": [
       "       Index  class\n",
       "0      40977      0\n",
       "1      24157      0\n",
       "2      56238      1\n",
       "3      55411      1\n",
       "4      53175      0\n",
       "...      ...    ...\n",
       "17471  17197      1\n",
       "17472  14094      0\n",
       "17473  34598      1\n",
       "17474  17845      0\n",
       "17475  11574      0\n",
       "\n",
       "[17476 rows x 2 columns]"
      ]
     },
     "execution_count": 18,
     "metadata": {},
     "output_type": "execute_result"
    }
   ],
   "source": [
    "result"
   ]
  },
  {
   "cell_type": "code",
   "execution_count": 19,
   "id": "2dc12793",
   "metadata": {
    "execution": {
     "iopub.execute_input": "2024-06-18T15:21:55.893782Z",
     "iopub.status.busy": "2024-06-18T15:21:55.893353Z",
     "iopub.status.idle": "2024-06-18T15:21:55.927678Z",
     "shell.execute_reply": "2024-06-18T15:21:55.926325Z"
    },
    "papermill": {
     "duration": 0.047812,
     "end_time": "2024-06-18T15:21:55.930860",
     "exception": false,
     "start_time": "2024-06-18T15:21:55.883048",
     "status": "completed"
    },
    "tags": []
   },
   "outputs": [],
   "source": [
    "result.to_csv(\"submission7iitg.csv\", index=False) #(for making submission file)"
   ]
  },
  {
   "cell_type": "code",
   "execution_count": null,
   "id": "f0b17ccf",
   "metadata": {
    "papermill": {
     "duration": 0.008761,
     "end_time": "2024-06-18T15:21:55.949475",
     "exception": false,
     "start_time": "2024-06-18T15:21:55.940714",
     "status": "completed"
    },
    "tags": []
   },
   "outputs": [],
   "source": []
  }
 ],
 "metadata": {
  "kaggle": {
   "accelerator": "none",
   "dataSources": [
    {
     "databundleVersionId": 8809707,
     "sourceId": 81427,
     "sourceType": "competition"
    }
   ],
   "dockerImageVersionId": 30732,
   "isGpuEnabled": false,
   "isInternetEnabled": false,
   "language": "python",
   "sourceType": "notebook"
  },
  "kernelspec": {
   "display_name": "Python 3",
   "language": "python",
   "name": "python3"
  },
  "language_info": {
   "codemirror_mode": {
    "name": "ipython",
    "version": 3
   },
   "file_extension": ".py",
   "mimetype": "text/x-python",
   "name": "python",
   "nbconvert_exporter": "python",
   "pygments_lexer": "ipython3",
   "version": "3.10.13"
  },
  "papermill": {
   "default_parameters": {},
   "duration": 11.012923,
   "end_time": "2024-06-18T15:21:56.781787",
   "environment_variables": {},
   "exception": null,
   "input_path": "__notebook__.ipynb",
   "output_path": "__notebook__.ipynb",
   "parameters": {},
   "start_time": "2024-06-18T15:21:45.768864",
   "version": "2.5.0"
  }
 },
 "nbformat": 4,
 "nbformat_minor": 5
}
