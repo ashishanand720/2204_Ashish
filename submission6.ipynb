{
 "cells": [
  {
   "cell_type": "code",
   "execution_count": 1,
   "id": "21b32e84",
   "metadata": {
    "_cell_guid": "b1076dfc-b9ad-4769-8c92-a6c4dae69d19",
    "_uuid": "8f2839f25d086af736a60e9eeb907d3b93b6e0e5",
    "execution": {
     "iopub.execute_input": "2024-06-18T15:15:47.884612Z",
     "iopub.status.busy": "2024-06-18T15:15:47.884213Z",
     "iopub.status.idle": "2024-06-18T15:15:50.311717Z",
     "shell.execute_reply": "2024-06-18T15:15:50.310089Z"
    },
    "papermill": {
     "duration": 2.437134,
     "end_time": "2024-06-18T15:15:50.313959",
     "exception": false,
     "start_time": "2024-06-18T15:15:47.876825",
     "status": "completed"
    },
    "tags": []
   },
   "outputs": [
    {
     "name": "stdout",
     "output_type": "stream",
     "text": [
      "/kaggle/input/week4-practice-hackathon-2024/sample_submission.csv\n",
      "/kaggle/input/week4-practice-hackathon-2024/Train.csv\n",
      "/kaggle/input/week4-practice-hackathon-2024/Test.csv\n"
     ]
    }
   ],
   "source": [
    "# This Python 3 environment comes with many helpful analytics libraries installed\n",
    "# It is defined by the kaggle/python Docker image: https://github.com/kaggle/docker-python\n",
    "# For example, here's several helpful packages to load\n",
    "\n",
    "import numpy as np # linear algebra\n",
    "import pandas as pd # data processing, CSV file I/O (e.g. pd.read_csv)\n",
    "from sklearn import preprocessing\n",
    "from sklearn.model_selection import train_test_split\n",
    "from sklearn.linear_model import LogisticRegression\n",
    "from tqdm.auto import tqdm\n",
    "from sklearn.metrics import f1_score\n",
    "\n",
    "# Input data files are available in the read-only \"../input/\" directory\n",
    "# For example, running this (by clicking run or pressing Shift+Enter) will list all files under the input directory\n",
    "\n",
    "import os\n",
    "for dirname, _, filenames in os.walk('/kaggle/input'):\n",
    "    for filename in filenames:\n",
    "        print(os.path.join(dirname, filename))\n",
    "\n",
    "# You can write up to 20GB to the current directory (/kaggle/working/) that gets preserved as output when you create a version using \"Save & Run All\"\n",
    "# You can also write temporary files to /kaggle/temp/, but they won't be saved outside of the current session"
   ]
  },
  {
   "cell_type": "code",
   "execution_count": 2,
   "id": "f584786a",
   "metadata": {
    "execution": {
     "iopub.execute_input": "2024-06-18T15:15:50.326111Z",
     "iopub.status.busy": "2024-06-18T15:15:50.325586Z",
     "iopub.status.idle": "2024-06-18T15:15:50.510883Z",
     "shell.execute_reply": "2024-06-18T15:15:50.509771Z"
    },
    "papermill": {
     "duration": 0.194191,
     "end_time": "2024-06-18T15:15:50.513450",
     "exception": false,
     "start_time": "2024-06-18T15:15:50.319259",
     "status": "completed"
    },
    "tags": []
   },
   "outputs": [],
   "source": [
    "train_df = pd.read_csv(\"/kaggle/input/week4-practice-hackathon-2024/Train.csv\")"
   ]
  },
  {
   "cell_type": "code",
   "execution_count": 3,
   "id": "2997b3dc",
   "metadata": {
    "execution": {
     "iopub.execute_input": "2024-06-18T15:15:50.525775Z",
     "iopub.status.busy": "2024-06-18T15:15:50.525058Z",
     "iopub.status.idle": "2024-06-18T15:15:50.530116Z",
     "shell.execute_reply": "2024-06-18T15:15:50.529171Z"
    },
    "papermill": {
     "duration": 0.013537,
     "end_time": "2024-06-18T15:15:50.532301",
     "exception": false,
     "start_time": "2024-06-18T15:15:50.518764",
     "status": "completed"
    },
    "tags": []
   },
   "outputs": [
    {
     "name": "stdout",
     "output_type": "stream",
     "text": [
      "(40776, 32)\n"
     ]
    }
   ],
   "source": [
    "print(train_df.shape)"
   ]
  },
  {
   "cell_type": "code",
   "execution_count": 4,
   "id": "90547289",
   "metadata": {
    "execution": {
     "iopub.execute_input": "2024-06-18T15:15:50.544132Z",
     "iopub.status.busy": "2024-06-18T15:15:50.543732Z",
     "iopub.status.idle": "2024-06-18T15:15:50.584023Z",
     "shell.execute_reply": "2024-06-18T15:15:50.583042Z"
    },
    "papermill": {
     "duration": 0.048666,
     "end_time": "2024-06-18T15:15:50.586261",
     "exception": false,
     "start_time": "2024-06-18T15:15:50.537595",
     "status": "completed"
    },
    "tags": []
   },
   "outputs": [
    {
     "data": {
      "text/html": [
       "<div>\n",
       "<style scoped>\n",
       "    .dataframe tbody tr th:only-of-type {\n",
       "        vertical-align: middle;\n",
       "    }\n",
       "\n",
       "    .dataframe tbody tr th {\n",
       "        vertical-align: top;\n",
       "    }\n",
       "\n",
       "    .dataframe thead th {\n",
       "        text-align: right;\n",
       "    }\n",
       "</style>\n",
       "<table border=\"1\" class=\"dataframe\">\n",
       "  <thead>\n",
       "    <tr style=\"text-align: right;\">\n",
       "      <th></th>\n",
       "      <th>V1</th>\n",
       "      <th>V2</th>\n",
       "      <th>V3</th>\n",
       "      <th>V4</th>\n",
       "      <th>V5</th>\n",
       "      <th>V6</th>\n",
       "      <th>V7</th>\n",
       "      <th>V8</th>\n",
       "      <th>V9</th>\n",
       "      <th>V10</th>\n",
       "      <th>...</th>\n",
       "      <th>V45</th>\n",
       "      <th>V47</th>\n",
       "      <th>V50</th>\n",
       "      <th>V51</th>\n",
       "      <th>V52</th>\n",
       "      <th>V59</th>\n",
       "      <th>V63</th>\n",
       "      <th>V72</th>\n",
       "      <th>V75</th>\n",
       "      <th>class</th>\n",
       "    </tr>\n",
       "  </thead>\n",
       "  <tbody>\n",
       "    <tr>\n",
       "      <th>0</th>\n",
       "      <td>0.0</td>\n",
       "      <td>1.0</td>\n",
       "      <td>243.0</td>\n",
       "      <td>29</td>\n",
       "      <td>4528.0</td>\n",
       "      <td>138.0</td>\n",
       "      <td>3.0</td>\n",
       "      <td>29</td>\n",
       "      <td>201.0</td>\n",
       "      <td>0.0</td>\n",
       "      <td>...</td>\n",
       "      <td>2</td>\n",
       "      <td>3</td>\n",
       "      <td>71.0</td>\n",
       "      <td>0</td>\n",
       "      <td>0</td>\n",
       "      <td>46.0</td>\n",
       "      <td>1</td>\n",
       "      <td>2</td>\n",
       "      <td>0</td>\n",
       "      <td>1</td>\n",
       "    </tr>\n",
       "    <tr>\n",
       "      <th>1</th>\n",
       "      <td>0.0</td>\n",
       "      <td>20.0</td>\n",
       "      <td>8.0</td>\n",
       "      <td>14</td>\n",
       "      <td>4183.0</td>\n",
       "      <td>183.0</td>\n",
       "      <td>4.0</td>\n",
       "      <td>26</td>\n",
       "      <td>156.0</td>\n",
       "      <td>0.0</td>\n",
       "      <td>...</td>\n",
       "      <td>5</td>\n",
       "      <td>7</td>\n",
       "      <td>20.0</td>\n",
       "      <td>0</td>\n",
       "      <td>2</td>\n",
       "      <td>13.0</td>\n",
       "      <td>9</td>\n",
       "      <td>6</td>\n",
       "      <td>0</td>\n",
       "      <td>1</td>\n",
       "    </tr>\n",
       "    <tr>\n",
       "      <th>2</th>\n",
       "      <td>14.0</td>\n",
       "      <td>2.0</td>\n",
       "      <td>2.0</td>\n",
       "      <td>9</td>\n",
       "      <td>1113.0</td>\n",
       "      <td>15.0</td>\n",
       "      <td>37.0</td>\n",
       "      <td>31</td>\n",
       "      <td>78.0</td>\n",
       "      <td>1.0</td>\n",
       "      <td>...</td>\n",
       "      <td>7</td>\n",
       "      <td>5</td>\n",
       "      <td>11.0</td>\n",
       "      <td>0</td>\n",
       "      <td>0</td>\n",
       "      <td>7.0</td>\n",
       "      <td>9</td>\n",
       "      <td>2</td>\n",
       "      <td>1</td>\n",
       "      <td>0</td>\n",
       "    </tr>\n",
       "    <tr>\n",
       "      <th>3</th>\n",
       "      <td>0.0</td>\n",
       "      <td>175.0</td>\n",
       "      <td>17.0</td>\n",
       "      <td>16</td>\n",
       "      <td>4250.0</td>\n",
       "      <td>68.0</td>\n",
       "      <td>8.0</td>\n",
       "      <td>30</td>\n",
       "      <td>152.0</td>\n",
       "      <td>0.0</td>\n",
       "      <td>...</td>\n",
       "      <td>1</td>\n",
       "      <td>3</td>\n",
       "      <td>0.0</td>\n",
       "      <td>1</td>\n",
       "      <td>1</td>\n",
       "      <td>31.0</td>\n",
       "      <td>6</td>\n",
       "      <td>4</td>\n",
       "      <td>5</td>\n",
       "      <td>1</td>\n",
       "    </tr>\n",
       "    <tr>\n",
       "      <th>4</th>\n",
       "      <td>2.0</td>\n",
       "      <td>-1.0</td>\n",
       "      <td>1.0</td>\n",
       "      <td>3</td>\n",
       "      <td>0.0</td>\n",
       "      <td>0.0</td>\n",
       "      <td>2.0</td>\n",
       "      <td>5</td>\n",
       "      <td>6.0</td>\n",
       "      <td>1.0</td>\n",
       "      <td>...</td>\n",
       "      <td>1</td>\n",
       "      <td>5</td>\n",
       "      <td>0.0</td>\n",
       "      <td>0</td>\n",
       "      <td>0</td>\n",
       "      <td>2.0</td>\n",
       "      <td>8</td>\n",
       "      <td>0</td>\n",
       "      <td>1</td>\n",
       "      <td>1</td>\n",
       "    </tr>\n",
       "  </tbody>\n",
       "</table>\n",
       "<p>5 rows × 32 columns</p>\n",
       "</div>"
      ],
      "text/plain": [
       "     V1     V2     V3  V4      V5     V6    V7  V8     V9  V10  ...  V45  V47  \\\n",
       "0   0.0    1.0  243.0  29  4528.0  138.0   3.0  29  201.0  0.0  ...    2    3   \n",
       "1   0.0   20.0    8.0  14  4183.0  183.0   4.0  26  156.0  0.0  ...    5    7   \n",
       "2  14.0    2.0    2.0   9  1113.0   15.0  37.0  31   78.0  1.0  ...    7    5   \n",
       "3   0.0  175.0   17.0  16  4250.0   68.0   8.0  30  152.0  0.0  ...    1    3   \n",
       "4   2.0   -1.0    1.0   3     0.0    0.0   2.0   5    6.0  1.0  ...    1    5   \n",
       "\n",
       "    V50  V51  V52   V59  V63  V72  V75  class  \n",
       "0  71.0    0    0  46.0    1    2    0      1  \n",
       "1  20.0    0    2  13.0    9    6    0      1  \n",
       "2  11.0    0    0   7.0    9    2    1      0  \n",
       "3   0.0    1    1  31.0    6    4    5      1  \n",
       "4   0.0    0    0   2.0    8    0    1      1  \n",
       "\n",
       "[5 rows x 32 columns]"
      ]
     },
     "execution_count": 4,
     "metadata": {},
     "output_type": "execute_result"
    }
   ],
   "source": [
    "train_df.head()"
   ]
  },
  {
   "cell_type": "code",
   "execution_count": 5,
   "id": "9b3bf446",
   "metadata": {
    "execution": {
     "iopub.execute_input": "2024-06-18T15:15:50.598891Z",
     "iopub.status.busy": "2024-06-18T15:15:50.598521Z",
     "iopub.status.idle": "2024-06-18T15:15:50.605485Z",
     "shell.execute_reply": "2024-06-18T15:15:50.604475Z"
    },
    "papermill": {
     "duration": 0.015786,
     "end_time": "2024-06-18T15:15:50.607600",
     "exception": false,
     "start_time": "2024-06-18T15:15:50.591814",
     "status": "completed"
    },
    "tags": []
   },
   "outputs": [
    {
     "data": {
      "text/plain": [
       "Index(['V1', 'V2', 'V3', 'V4', 'V5', 'V6', 'V7', 'V8', 'V9', 'V10', 'V11',\n",
       "       'V13', 'V19', 'V22', 'V30', 'V33', 'V35', 'V36', 'V40', 'V41', 'V42',\n",
       "       'V43', 'V45', 'V47', 'V50', 'V51', 'V52', 'V59', 'V63', 'V72', 'V75',\n",
       "       'class'],\n",
       "      dtype='object')"
      ]
     },
     "execution_count": 5,
     "metadata": {},
     "output_type": "execute_result"
    }
   ],
   "source": [
    "train_df.columns"
   ]
  },
  {
   "cell_type": "code",
   "execution_count": 6,
   "id": "6f8384b9",
   "metadata": {
    "execution": {
     "iopub.execute_input": "2024-06-18T15:15:50.620771Z",
     "iopub.status.busy": "2024-06-18T15:15:50.619876Z",
     "iopub.status.idle": "2024-06-18T15:15:50.629312Z",
     "shell.execute_reply": "2024-06-18T15:15:50.628333Z"
    },
    "papermill": {
     "duration": 0.018325,
     "end_time": "2024-06-18T15:15:50.631557",
     "exception": false,
     "start_time": "2024-06-18T15:15:50.613232",
     "status": "completed"
    },
    "tags": []
   },
   "outputs": [],
   "source": [
    "X = train_df.drop(['class'], axis=1)\n",
    "y = train_df['class']"
   ]
  },
  {
   "cell_type": "code",
   "execution_count": 7,
   "id": "b6450b0b",
   "metadata": {
    "execution": {
     "iopub.execute_input": "2024-06-18T15:15:50.644463Z",
     "iopub.status.busy": "2024-06-18T15:15:50.644091Z",
     "iopub.status.idle": "2024-06-18T15:15:50.671372Z",
     "shell.execute_reply": "2024-06-18T15:15:50.669970Z"
    },
    "papermill": {
     "duration": 0.036583,
     "end_time": "2024-06-18T15:15:50.673884",
     "exception": false,
     "start_time": "2024-06-18T15:15:50.637301",
     "status": "completed"
    },
    "tags": []
   },
   "outputs": [],
   "source": [
    "X_train, X_val, y_train, y_val = train_test_split(X, y, test_size = 0.3)"
   ]
  },
  {
   "cell_type": "code",
   "execution_count": 8,
   "id": "7f95e67f",
   "metadata": {
    "execution": {
     "iopub.execute_input": "2024-06-18T15:15:50.687739Z",
     "iopub.status.busy": "2024-06-18T15:15:50.686870Z",
     "iopub.status.idle": "2024-06-18T15:15:50.699362Z",
     "shell.execute_reply": "2024-06-18T15:15:50.698248Z"
    },
    "papermill": {
     "duration": 0.022057,
     "end_time": "2024-06-18T15:15:50.701586",
     "exception": false,
     "start_time": "2024-06-18T15:15:50.679529",
     "status": "completed"
    },
    "tags": []
   },
   "outputs": [
    {
     "name": "stdout",
     "output_type": "stream",
     "text": [
      "class\n",
      "0    14280\n",
      "1    14263\n",
      "Name: count, dtype: int64\n"
     ]
    }
   ],
   "source": [
    "print(y_train.value_counts())"
   ]
  },
  {
   "cell_type": "code",
   "execution_count": 9,
   "id": "cee5df82",
   "metadata": {
    "execution": {
     "iopub.execute_input": "2024-06-18T15:15:50.714503Z",
     "iopub.status.busy": "2024-06-18T15:15:50.714132Z",
     "iopub.status.idle": "2024-06-18T15:15:51.460125Z",
     "shell.execute_reply": "2024-06-18T15:15:51.458993Z"
    },
    "papermill": {
     "duration": 0.755346,
     "end_time": "2024-06-18T15:15:51.462666",
     "exception": false,
     "start_time": "2024-06-18T15:15:50.707320",
     "status": "completed"
    },
    "tags": []
   },
   "outputs": [
    {
     "data": {
      "text/html": [
       "<style>#sk-container-id-1 {color: black;background-color: white;}#sk-container-id-1 pre{padding: 0;}#sk-container-id-1 div.sk-toggleable {background-color: white;}#sk-container-id-1 label.sk-toggleable__label {cursor: pointer;display: block;width: 100%;margin-bottom: 0;padding: 0.3em;box-sizing: border-box;text-align: center;}#sk-container-id-1 label.sk-toggleable__label-arrow:before {content: \"▸\";float: left;margin-right: 0.25em;color: #696969;}#sk-container-id-1 label.sk-toggleable__label-arrow:hover:before {color: black;}#sk-container-id-1 div.sk-estimator:hover label.sk-toggleable__label-arrow:before {color: black;}#sk-container-id-1 div.sk-toggleable__content {max-height: 0;max-width: 0;overflow: hidden;text-align: left;background-color: #f0f8ff;}#sk-container-id-1 div.sk-toggleable__content pre {margin: 0.2em;color: black;border-radius: 0.25em;background-color: #f0f8ff;}#sk-container-id-1 input.sk-toggleable__control:checked~div.sk-toggleable__content {max-height: 200px;max-width: 100%;overflow: auto;}#sk-container-id-1 input.sk-toggleable__control:checked~label.sk-toggleable__label-arrow:before {content: \"▾\";}#sk-container-id-1 div.sk-estimator input.sk-toggleable__control:checked~label.sk-toggleable__label {background-color: #d4ebff;}#sk-container-id-1 div.sk-label input.sk-toggleable__control:checked~label.sk-toggleable__label {background-color: #d4ebff;}#sk-container-id-1 input.sk-hidden--visually {border: 0;clip: rect(1px 1px 1px 1px);clip: rect(1px, 1px, 1px, 1px);height: 1px;margin: -1px;overflow: hidden;padding: 0;position: absolute;width: 1px;}#sk-container-id-1 div.sk-estimator {font-family: monospace;background-color: #f0f8ff;border: 1px dotted black;border-radius: 0.25em;box-sizing: border-box;margin-bottom: 0.5em;}#sk-container-id-1 div.sk-estimator:hover {background-color: #d4ebff;}#sk-container-id-1 div.sk-parallel-item::after {content: \"\";width: 100%;border-bottom: 1px solid gray;flex-grow: 1;}#sk-container-id-1 div.sk-label:hover label.sk-toggleable__label {background-color: #d4ebff;}#sk-container-id-1 div.sk-serial::before {content: \"\";position: absolute;border-left: 1px solid gray;box-sizing: border-box;top: 0;bottom: 0;left: 50%;z-index: 0;}#sk-container-id-1 div.sk-serial {display: flex;flex-direction: column;align-items: center;background-color: white;padding-right: 0.2em;padding-left: 0.2em;position: relative;}#sk-container-id-1 div.sk-item {position: relative;z-index: 1;}#sk-container-id-1 div.sk-parallel {display: flex;align-items: stretch;justify-content: center;background-color: white;position: relative;}#sk-container-id-1 div.sk-item::before, #sk-container-id-1 div.sk-parallel-item::before {content: \"\";position: absolute;border-left: 1px solid gray;box-sizing: border-box;top: 0;bottom: 0;left: 50%;z-index: -1;}#sk-container-id-1 div.sk-parallel-item {display: flex;flex-direction: column;z-index: 1;position: relative;background-color: white;}#sk-container-id-1 div.sk-parallel-item:first-child::after {align-self: flex-end;width: 50%;}#sk-container-id-1 div.sk-parallel-item:last-child::after {align-self: flex-start;width: 50%;}#sk-container-id-1 div.sk-parallel-item:only-child::after {width: 0;}#sk-container-id-1 div.sk-dashed-wrapped {border: 1px dashed gray;margin: 0 0.4em 0.5em 0.4em;box-sizing: border-box;padding-bottom: 0.4em;background-color: white;}#sk-container-id-1 div.sk-label label {font-family: monospace;font-weight: bold;display: inline-block;line-height: 1.2em;}#sk-container-id-1 div.sk-label-container {text-align: center;}#sk-container-id-1 div.sk-container {/* jupyter's `normalize.less` sets `[hidden] { display: none; }` but bootstrap.min.css set `[hidden] { display: none !important; }` so we also need the `!important` here to be able to override the default hidden behavior on the sphinx rendered scikit-learn.org. See: https://github.com/scikit-learn/scikit-learn/issues/21755 */display: inline-block !important;position: relative;}#sk-container-id-1 div.sk-text-repr-fallback {display: none;}</style><div id=\"sk-container-id-1\" class=\"sk-top-container\"><div class=\"sk-text-repr-fallback\"><pre>XGBClassifier(base_score=None, booster=None, callbacks=None,\n",
       "              colsample_bylevel=None, colsample_bynode=None,\n",
       "              colsample_bytree=None, device=None, early_stopping_rounds=None,\n",
       "              enable_categorical=False, eval_metric=&#x27;logloss&#x27;,\n",
       "              feature_types=None, gamma=None, grow_policy=None,\n",
       "              importance_type=None, interaction_constraints=None,\n",
       "              learning_rate=None, max_bin=None, max_cat_threshold=None,\n",
       "              max_cat_to_onehot=None, max_delta_step=None, max_depth=None,\n",
       "              max_leaves=None, min_child_weight=None, missing=nan,\n",
       "              monotone_constraints=None, multi_strategy=None, n_estimators=None,\n",
       "              n_jobs=None, num_parallel_tree=None, random_state=None, ...)</pre><b>In a Jupyter environment, please rerun this cell to show the HTML representation or trust the notebook. <br />On GitHub, the HTML representation is unable to render, please try loading this page with nbviewer.org.</b></div><div class=\"sk-container\" hidden><div class=\"sk-item\"><div class=\"sk-estimator sk-toggleable\"><input class=\"sk-toggleable__control sk-hidden--visually\" id=\"sk-estimator-id-1\" type=\"checkbox\" checked><label for=\"sk-estimator-id-1\" class=\"sk-toggleable__label sk-toggleable__label-arrow\">XGBClassifier</label><div class=\"sk-toggleable__content\"><pre>XGBClassifier(base_score=None, booster=None, callbacks=None,\n",
       "              colsample_bylevel=None, colsample_bynode=None,\n",
       "              colsample_bytree=None, device=None, early_stopping_rounds=None,\n",
       "              enable_categorical=False, eval_metric=&#x27;logloss&#x27;,\n",
       "              feature_types=None, gamma=None, grow_policy=None,\n",
       "              importance_type=None, interaction_constraints=None,\n",
       "              learning_rate=None, max_bin=None, max_cat_threshold=None,\n",
       "              max_cat_to_onehot=None, max_delta_step=None, max_depth=None,\n",
       "              max_leaves=None, min_child_weight=None, missing=nan,\n",
       "              monotone_constraints=None, multi_strategy=None, n_estimators=None,\n",
       "              n_jobs=None, num_parallel_tree=None, random_state=None, ...)</pre></div></div></div></div></div>"
      ],
      "text/plain": [
       "XGBClassifier(base_score=None, booster=None, callbacks=None,\n",
       "              colsample_bylevel=None, colsample_bynode=None,\n",
       "              colsample_bytree=None, device=None, early_stopping_rounds=None,\n",
       "              enable_categorical=False, eval_metric='logloss',\n",
       "              feature_types=None, gamma=None, grow_policy=None,\n",
       "              importance_type=None, interaction_constraints=None,\n",
       "              learning_rate=None, max_bin=None, max_cat_threshold=None,\n",
       "              max_cat_to_onehot=None, max_delta_step=None, max_depth=None,\n",
       "              max_leaves=None, min_child_weight=None, missing=nan,\n",
       "              monotone_constraints=None, multi_strategy=None, n_estimators=None,\n",
       "              n_jobs=None, num_parallel_tree=None, random_state=None, ...)"
      ]
     },
     "execution_count": 9,
     "metadata": {},
     "output_type": "execute_result"
    }
   ],
   "source": [
    "from xgboost import XGBClassifier\n",
    "# XGBoost\n",
    "xgb = XGBClassifier(eval_metric='logloss')\n",
    "xgb.fit(X_train, y_train)"
   ]
  },
  {
   "cell_type": "code",
   "execution_count": 10,
   "id": "a365222d",
   "metadata": {
    "execution": {
     "iopub.execute_input": "2024-06-18T15:15:51.476488Z",
     "iopub.status.busy": "2024-06-18T15:15:51.476114Z",
     "iopub.status.idle": "2024-06-18T15:15:51.513736Z",
     "shell.execute_reply": "2024-06-18T15:15:51.512899Z"
    },
    "papermill": {
     "duration": 0.047204,
     "end_time": "2024-06-18T15:15:51.516145",
     "exception": false,
     "start_time": "2024-06-18T15:15:51.468941",
     "status": "completed"
    },
    "tags": []
   },
   "outputs": [],
   "source": [
    "y_pred = xgb.predict(X_val)\n",
    "f1 = f1_score(y_val, y_pred)"
   ]
  },
  {
   "cell_type": "code",
   "execution_count": 11,
   "id": "8cc6aba2",
   "metadata": {
    "execution": {
     "iopub.execute_input": "2024-06-18T15:15:51.529794Z",
     "iopub.status.busy": "2024-06-18T15:15:51.529415Z",
     "iopub.status.idle": "2024-06-18T15:15:51.534720Z",
     "shell.execute_reply": "2024-06-18T15:15:51.533831Z"
    },
    "papermill": {
     "duration": 0.014779,
     "end_time": "2024-06-18T15:15:51.536913",
     "exception": false,
     "start_time": "2024-06-18T15:15:51.522134",
     "status": "completed"
    },
    "tags": []
   },
   "outputs": [
    {
     "name": "stdout",
     "output_type": "stream",
     "text": [
      "XGBoost F1 score: 0.6575931232091691\n"
     ]
    }
   ],
   "source": [
    "print(f\"XGBoost F1 score: {f1}\")"
   ]
  },
  {
   "cell_type": "code",
   "execution_count": 12,
   "id": "906fa0b2",
   "metadata": {
    "execution": {
     "iopub.execute_input": "2024-06-18T15:15:51.550322Z",
     "iopub.status.busy": "2024-06-18T15:15:51.549921Z",
     "iopub.status.idle": "2024-06-18T15:15:51.632567Z",
     "shell.execute_reply": "2024-06-18T15:15:51.631515Z"
    },
    "papermill": {
     "duration": 0.092109,
     "end_time": "2024-06-18T15:15:51.635004",
     "exception": false,
     "start_time": "2024-06-18T15:15:51.542895",
     "status": "completed"
    },
    "tags": []
   },
   "outputs": [],
   "source": [
    "test_data = pd.read_csv(\"/kaggle/input/week4-practice-hackathon-2024/Test.csv\")"
   ]
  },
  {
   "cell_type": "code",
   "execution_count": 13,
   "id": "c0b7c98a",
   "metadata": {
    "execution": {
     "iopub.execute_input": "2024-06-18T15:15:51.648989Z",
     "iopub.status.busy": "2024-06-18T15:15:51.648606Z",
     "iopub.status.idle": "2024-06-18T15:15:51.655004Z",
     "shell.execute_reply": "2024-06-18T15:15:51.654073Z"
    },
    "papermill": {
     "duration": 0.015826,
     "end_time": "2024-06-18T15:15:51.657233",
     "exception": false,
     "start_time": "2024-06-18T15:15:51.641407",
     "status": "completed"
    },
    "tags": []
   },
   "outputs": [
    {
     "data": {
      "text/plain": [
       "(17476, 32)"
      ]
     },
     "execution_count": 13,
     "metadata": {},
     "output_type": "execute_result"
    }
   ],
   "source": [
    "test_data.shape"
   ]
  },
  {
   "cell_type": "code",
   "execution_count": 14,
   "id": "86236a19",
   "metadata": {
    "execution": {
     "iopub.execute_input": "2024-06-18T15:15:51.671550Z",
     "iopub.status.busy": "2024-06-18T15:15:51.671202Z",
     "iopub.status.idle": "2024-06-18T15:15:51.677907Z",
     "shell.execute_reply": "2024-06-18T15:15:51.677034Z"
    },
    "papermill": {
     "duration": 0.016006,
     "end_time": "2024-06-18T15:15:51.680058",
     "exception": false,
     "start_time": "2024-06-18T15:15:51.664052",
     "status": "completed"
    },
    "tags": []
   },
   "outputs": [],
   "source": [
    "Index=test_data['Index']\n",
    "test_data.drop(['Index'],axis=1,inplace=True)"
   ]
  },
  {
   "cell_type": "code",
   "execution_count": 15,
   "id": "2e5d8c11",
   "metadata": {
    "execution": {
     "iopub.execute_input": "2024-06-18T15:15:51.693882Z",
     "iopub.status.busy": "2024-06-18T15:15:51.693524Z",
     "iopub.status.idle": "2024-06-18T15:15:51.724788Z",
     "shell.execute_reply": "2024-06-18T15:15:51.723813Z"
    },
    "papermill": {
     "duration": 0.04102,
     "end_time": "2024-06-18T15:15:51.727339",
     "exception": false,
     "start_time": "2024-06-18T15:15:51.686319",
     "status": "completed"
    },
    "tags": []
   },
   "outputs": [],
   "source": [
    "y_test =xgb.predict(test_data)"
   ]
  },
  {
   "cell_type": "code",
   "execution_count": 16,
   "id": "9682a2d8",
   "metadata": {
    "execution": {
     "iopub.execute_input": "2024-06-18T15:15:51.741838Z",
     "iopub.status.busy": "2024-06-18T15:15:51.741487Z",
     "iopub.status.idle": "2024-06-18T15:15:51.748504Z",
     "shell.execute_reply": "2024-06-18T15:15:51.747434Z"
    },
    "papermill": {
     "duration": 0.016892,
     "end_time": "2024-06-18T15:15:51.750685",
     "exception": false,
     "start_time": "2024-06-18T15:15:51.733793",
     "status": "completed"
    },
    "tags": []
   },
   "outputs": [
    {
     "data": {
      "text/plain": [
       "array([0, 0, 1, ..., 1, 0, 0])"
      ]
     },
     "execution_count": 16,
     "metadata": {},
     "output_type": "execute_result"
    }
   ],
   "source": [
    "y_test"
   ]
  },
  {
   "cell_type": "code",
   "execution_count": 17,
   "id": "d3a16f69",
   "metadata": {
    "execution": {
     "iopub.execute_input": "2024-06-18T15:15:51.766172Z",
     "iopub.status.busy": "2024-06-18T15:15:51.765691Z",
     "iopub.status.idle": "2024-06-18T15:15:51.771507Z",
     "shell.execute_reply": "2024-06-18T15:15:51.770377Z"
    },
    "papermill": {
     "duration": 0.017198,
     "end_time": "2024-06-18T15:15:51.773993",
     "exception": false,
     "start_time": "2024-06-18T15:15:51.756795",
     "status": "completed"
    },
    "tags": []
   },
   "outputs": [],
   "source": [
    "result = pd.DataFrame({\n",
    "    'Index': Index,\n",
    "    'class': y_test\n",
    "})"
   ]
  },
  {
   "cell_type": "code",
   "execution_count": 18,
   "id": "508908ee",
   "metadata": {
    "execution": {
     "iopub.execute_input": "2024-06-18T15:15:51.788176Z",
     "iopub.status.busy": "2024-06-18T15:15:51.787740Z",
     "iopub.status.idle": "2024-06-18T15:15:51.799990Z",
     "shell.execute_reply": "2024-06-18T15:15:51.798927Z"
    },
    "papermill": {
     "duration": 0.021859,
     "end_time": "2024-06-18T15:15:51.802216",
     "exception": false,
     "start_time": "2024-06-18T15:15:51.780357",
     "status": "completed"
    },
    "tags": []
   },
   "outputs": [
    {
     "data": {
      "text/html": [
       "<div>\n",
       "<style scoped>\n",
       "    .dataframe tbody tr th:only-of-type {\n",
       "        vertical-align: middle;\n",
       "    }\n",
       "\n",
       "    .dataframe tbody tr th {\n",
       "        vertical-align: top;\n",
       "    }\n",
       "\n",
       "    .dataframe thead th {\n",
       "        text-align: right;\n",
       "    }\n",
       "</style>\n",
       "<table border=\"1\" class=\"dataframe\">\n",
       "  <thead>\n",
       "    <tr style=\"text-align: right;\">\n",
       "      <th></th>\n",
       "      <th>Index</th>\n",
       "      <th>class</th>\n",
       "    </tr>\n",
       "  </thead>\n",
       "  <tbody>\n",
       "    <tr>\n",
       "      <th>0</th>\n",
       "      <td>40977</td>\n",
       "      <td>0</td>\n",
       "    </tr>\n",
       "    <tr>\n",
       "      <th>1</th>\n",
       "      <td>24157</td>\n",
       "      <td>0</td>\n",
       "    </tr>\n",
       "    <tr>\n",
       "      <th>2</th>\n",
       "      <td>56238</td>\n",
       "      <td>1</td>\n",
       "    </tr>\n",
       "    <tr>\n",
       "      <th>3</th>\n",
       "      <td>55411</td>\n",
       "      <td>1</td>\n",
       "    </tr>\n",
       "    <tr>\n",
       "      <th>4</th>\n",
       "      <td>53175</td>\n",
       "      <td>0</td>\n",
       "    </tr>\n",
       "    <tr>\n",
       "      <th>...</th>\n",
       "      <td>...</td>\n",
       "      <td>...</td>\n",
       "    </tr>\n",
       "    <tr>\n",
       "      <th>17471</th>\n",
       "      <td>17197</td>\n",
       "      <td>1</td>\n",
       "    </tr>\n",
       "    <tr>\n",
       "      <th>17472</th>\n",
       "      <td>14094</td>\n",
       "      <td>0</td>\n",
       "    </tr>\n",
       "    <tr>\n",
       "      <th>17473</th>\n",
       "      <td>34598</td>\n",
       "      <td>1</td>\n",
       "    </tr>\n",
       "    <tr>\n",
       "      <th>17474</th>\n",
       "      <td>17845</td>\n",
       "      <td>0</td>\n",
       "    </tr>\n",
       "    <tr>\n",
       "      <th>17475</th>\n",
       "      <td>11574</td>\n",
       "      <td>0</td>\n",
       "    </tr>\n",
       "  </tbody>\n",
       "</table>\n",
       "<p>17476 rows × 2 columns</p>\n",
       "</div>"
      ],
      "text/plain": [
       "       Index  class\n",
       "0      40977      0\n",
       "1      24157      0\n",
       "2      56238      1\n",
       "3      55411      1\n",
       "4      53175      0\n",
       "...      ...    ...\n",
       "17471  17197      1\n",
       "17472  14094      0\n",
       "17473  34598      1\n",
       "17474  17845      0\n",
       "17475  11574      0\n",
       "\n",
       "[17476 rows x 2 columns]"
      ]
     },
     "execution_count": 18,
     "metadata": {},
     "output_type": "execute_result"
    }
   ],
   "source": [
    "result"
   ]
  },
  {
   "cell_type": "code",
   "execution_count": 19,
   "id": "2bfe78f1",
   "metadata": {
    "execution": {
     "iopub.execute_input": "2024-06-18T15:15:51.817119Z",
     "iopub.status.busy": "2024-06-18T15:15:51.816289Z",
     "iopub.status.idle": "2024-06-18T15:15:51.838145Z",
     "shell.execute_reply": "2024-06-18T15:15:51.836905Z"
    },
    "papermill": {
     "duration": 0.031934,
     "end_time": "2024-06-18T15:15:51.840682",
     "exception": false,
     "start_time": "2024-06-18T15:15:51.808748",
     "status": "completed"
    },
    "tags": []
   },
   "outputs": [],
   "source": [
    "result.to_csv(\"submission6iitg.csv\", index=False) #(for making submission file)"
   ]
  },
  {
   "cell_type": "code",
   "execution_count": null,
   "id": "c9b268e6",
   "metadata": {
    "papermill": {
     "duration": 0.006022,
     "end_time": "2024-06-18T15:15:51.853255",
     "exception": false,
     "start_time": "2024-06-18T15:15:51.847233",
     "status": "completed"
    },
    "tags": []
   },
   "outputs": [],
   "source": []
  }
 ],
 "metadata": {
  "kaggle": {
   "accelerator": "none",
   "dataSources": [
    {
     "databundleVersionId": 8809707,
     "sourceId": 81427,
     "sourceType": "competition"
    }
   ],
   "dockerImageVersionId": 30732,
   "isGpuEnabled": false,
   "isInternetEnabled": false,
   "language": "python",
   "sourceType": "notebook"
  },
  "kernelspec": {
   "display_name": "Python 3",
   "language": "python",
   "name": "python3"
  },
  "language_info": {
   "codemirror_mode": {
    "name": "ipython",
    "version": 3
   },
   "file_extension": ".py",
   "mimetype": "text/x-python",
   "name": "python",
   "nbconvert_exporter": "python",
   "pygments_lexer": "ipython3",
   "version": "3.10.13"
  },
  "papermill": {
   "default_parameters": {},
   "duration": 7.40309,
   "end_time": "2024-06-18T15:15:52.480298",
   "environment_variables": {},
   "exception": null,
   "input_path": "__notebook__.ipynb",
   "output_path": "__notebook__.ipynb",
   "parameters": {},
   "start_time": "2024-06-18T15:15:45.077208",
   "version": "2.5.0"
  }
 },
 "nbformat": 4,
 "nbformat_minor": 5
}
